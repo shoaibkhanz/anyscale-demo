{
 "cells": [
  {
   "cell_type": "code",
   "execution_count": 1,
   "id": "62cec95a-d4e4-42cf-b9bf-a05c545637a6",
   "metadata": {},
   "outputs": [],
   "source": [
    "import ray\n",
    "import torch.nn as nn\n",
    "from torchvision.models import resnet18, ResNet18_Weights\n",
    "from \n",
    "import "
   ]
  },
  {
   "cell_type": "code",
   "execution_count": null,
   "id": "79b6281e-9bea-46e4-854a-759e8d4cf68b",
   "metadata": {},
   "outputs": [],
   "source": []
  }
 ],
 "metadata": {
  "kernelspec": {
   "display_name": "Python 3 (ipykernel)",
   "language": "python",
   "name": "python3"
  },
  "language_info": {
   "codemirror_mode": {
    "name": "ipython",
    "version": 3
   },
   "file_extension": ".py",
   "mimetype": "text/x-python",
   "name": "python",
   "nbconvert_exporter": "python",
   "pygments_lexer": "ipython3",
   "version": "3.12.11"
  }
 },
 "nbformat": 4,
 "nbformat_minor": 5
}
