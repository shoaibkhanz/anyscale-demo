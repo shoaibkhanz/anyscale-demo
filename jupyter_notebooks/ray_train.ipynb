{
 "cells": [
  {
   "cell_type": "code",
   "execution_count": 1,
   "id": "e9b6c7b4-cccb-4f1d-86bd-d2b0ec60bde6",
   "metadata": {
    "tags": []
   },
   "outputs": [],
   "source": [
    "# Standard library\n",
    "import os\n",
    "import tempfile\n",
    "import uuid\n",
    "from pathlib import Path\n",
    "\n",
    "# Third-party libraries\n",
    "from filelock import FileLock\n",
    "from PIL import Image\n",
    "import matplotlib.pyplot as plt\n",
    "import torch\n",
    "import torch.nn as nn\n",
    "from torch.utils.data import DataLoader, Subset\n",
    "from torchmetrics.classification import Accuracy\n",
    "\n",
    "# torchvision (separate for clarity)\n",
    "from torchvision.datasets import CIFAR10\n",
    "from torchvision.models import resnet18, ResNet18_Weights\n",
    "from torchvision import transforms\n",
    "\n",
    "# Ray imports\n",
    "import ray\n",
    "from ray.train.torch import TorchTrainer\n",
    "from ray.train import ScalingConfig, RunConfig, CheckpointConfig"
   ]
  },
  {
   "cell_type": "code",
   "execution_count": 2,
   "id": "5352278e-e560-4145-9561-a479807ac37c",
   "metadata": {
    "tags": []
   },
   "outputs": [
    {
     "data": {
      "text/plain": [
       "Dataset CIFAR10\n",
       "    Number of datapoints: 10000\n",
       "    Root location: ../marimo_notebooks/data\n",
       "    Split: Test"
      ]
     },
     "execution_count": 2,
     "metadata": {},
     "output_type": "execute_result"
    }
   ],
   "source": [
    "data = CIFAR10(root=\"../marimo_notebooks/data\",download=True,train=False)\n",
    "data"
   ]
  },
  {
   "cell_type": "code",
   "execution_count": 3,
   "id": "925827ef-e757-4c76-8926-1c873cb48faf",
   "metadata": {
    "tags": []
   },
   "outputs": [
    {
     "data": {
      "text/plain": [
       "(<PIL.Image.Image image mode=RGB size=32x32>, 3)"
      ]
     },
     "execution_count": 3,
     "metadata": {},
     "output_type": "execute_result"
    }
   ],
   "source": [
    "# the data contains of a PIL image and the label\n",
    "next(iter(data))"
   ]
  },
  {
   "cell_type": "code",
   "execution_count": 4,
   "id": "de401ca3",
   "metadata": {},
   "outputs": [
    {
     "data": {
      "text/plain": [
       "<matplotlib.image.AxesImage at 0x72ec6d463b90>"
      ]
     },
     "execution_count": 4,
     "metadata": {},
     "output_type": "execute_result"
    },
    {
     "data": {
      "image/png": "[encoded data removed]",
      "text/plain": [
       "<Figure size 640x480 with 1 Axes>"
      ]
     },
     "metadata": {},
     "output_type": "display_data"
    }
   ],
   "source": [
    "plt.imshow(next(iter(data))[0])"
   ]
  },
  {
   "cell_type": "code",
   "execution_count": 5,
   "id": "9205da88-0ee7-45c8-8835-7c3d196f2c7b",
   "metadata": {
    "tags": []
   },
   "outputs": [
    {
     "data": {
      "text/plain": [
       "{'airplane': 0,\n",
       " 'automobile': 1,\n",
       " 'bird': 2,\n",
       " 'cat': 3,\n",
       " 'deer': 4,\n",
       " 'dog': 5,\n",
       " 'frog': 6,\n",
       " 'horse': 7,\n",
       " 'ship': 8,\n",
       " 'truck': 9}"
      ]
     },
     "execution_count": 5,
     "metadata": {},
     "output_type": "execute_result"
    }
   ],
   "source": [
    "class_to_idx = data.class_to_idx\n",
    "class_to_idx"
   ]
  },
  {
   "cell_type": "code",
   "execution_count": 6,
   "id": "be82cd1a",
   "metadata": {},
   "outputs": [],
   "source": [
    "weights = ResNet18_Weights.IMAGENET1K_V1"
   ]
  },
  {
   "cell_type": "code",
   "execution_count": 7,
   "id": "46641dcc-4f1b-409c-b488-53966744e3da",
   "metadata": {
    "tags": []
   },
   "outputs": [
    {
     "name": "stderr",
     "output_type": "stream",
     "text": [
      "/home/ray/anaconda3/lib/python3.12/site-packages/torchvision/models/_utils.py:223: UserWarning: Arguments other than a weight enum or `None` for 'weights' are deprecated since 0.13 and may be removed in the future. The current behavior is equivalent to passing `weights=ResNet18_Weights.IMAGENET1K_V1`. You can also use `weights=ResNet18_Weights.DEFAULT` to get the most up-to-date weights.\n",
      "  warnings.warn(msg)\n"
     ]
    },
    {
     "data": {
      "text/plain": [
       "ResNet(\n",
       "  (conv1): Conv2d(3, 64, kernel_size=(7, 7), stride=(2, 2), padding=(3, 3), bias=False)\n",
       "  (bn1): BatchNorm2d(64, eps=1e-05, momentum=0.1, affine=True, track_running_stats=True)\n",
       "  (relu): ReLU(inplace=True)\n",
       "  (maxpool): MaxPool2d(kernel_size=3, stride=2, padding=1, dilation=1, ceil_mode=False)\n",
       "  (layer1): Sequential(\n",
       "    (0): BasicBlock(\n",
       "      (conv1): Conv2d(64, 64, kernel_size=(3, 3), stride=(1, 1), padding=(1, 1), bias=False)\n",
       "      (bn1): BatchNorm2d(64, eps=1e-05, momentum=0.1, affine=True, track_running_stats=True)\n",
       "      (relu): ReLU(inplace=True)\n",
       "      (conv2): Conv2d(64, 64, kernel_size=(3, 3), stride=(1, 1), padding=(1, 1), bias=False)\n",
       "      (bn2): BatchNorm2d(64, eps=1e-05, momentum=0.1, affine=True, track_running_stats=True)\n",
       "    )\n",
       "    (1): BasicBlock(\n",
       "      (conv1): Conv2d(64, 64, kernel_size=(3, 3), stride=(1, 1), padding=(1, 1), bias=False)\n",
       "      (bn1): BatchNorm2d(64, eps=1e-05, momentum=0.1, affine=True, track_running_stats=True)\n",
       "      (relu): ReLU(inplace=True)\n",
       "      (conv2): Conv2d(64, 64, kernel_size=(3, 3), stride=(1, 1), padding=(1, 1), bias=False)\n",
       "      (bn2): BatchNorm2d(64, eps=1e-05, momentum=0.1, affine=True, track_running_stats=True)\n",
       "    )\n",
       "  )\n",
       "  (layer2): Sequential(\n",
       "    (0): BasicBlock(\n",
       "      (conv1): Conv2d(64, 128, kernel_size=(3, 3), stride=(2, 2), padding=(1, 1), bias=False)\n",
       "      (bn1): BatchNorm2d(128, eps=1e-05, momentum=0.1, affine=True, track_running_stats=True)\n",
       "      (relu): ReLU(inplace=True)\n",
       "      (conv2): Conv2d(128, 128, kernel_size=(3, 3), stride=(1, 1), padding=(1, 1), bias=False)\n",
       "      (bn2): BatchNorm2d(128, eps=1e-05, momentum=0.1, affine=True, track_running_stats=True)\n",
       "      (downsample): Sequential(\n",
       "        (0): Conv2d(64, 128, kernel_size=(1, 1), stride=(2, 2), bias=False)\n",
       "        (1): BatchNorm2d(128, eps=1e-05, momentum=0.1, affine=True, track_running_stats=True)\n",
       "      )\n",
       "    )\n",
       "    (1): BasicBlock(\n",
       "      (conv1): Conv2d(128, 128, kernel_size=(3, 3), stride=(1, 1), padding=(1, 1), bias=False)\n",
       "      (bn1): BatchNorm2d(128, eps=1e-05, momentum=0.1, affine=True, track_running_stats=True)\n",
       "      (relu): ReLU(inplace=True)\n",
       "      (conv2): Conv2d(128, 128, kernel_size=(3, 3), stride=(1, 1), padding=(1, 1), bias=False)\n",
       "      (bn2): BatchNorm2d(128, eps=1e-05, momentum=0.1, affine=True, track_running_stats=True)\n",
       "    )\n",
       "  )\n",
       "  (layer3): Sequential(\n",
       "    (0): BasicBlock(\n",
       "      (conv1): Conv2d(128, 256, kernel_size=(3, 3), stride=(2, 2), padding=(1, 1), bias=False)\n",
       "      (bn1): BatchNorm2d(256, eps=1e-05, momentum=0.1, affine=True, track_running_stats=True)\n",
       "      (relu): ReLU(inplace=True)\n",
       "      (conv2): Conv2d(256, 256, kernel_size=(3, 3), stride=(1, 1), padding=(1, 1), bias=False)\n",
       "      (bn2): BatchNorm2d(256, eps=1e-05, momentum=0.1, affine=True, track_running_stats=True)\n",
       "      (downsample): Sequential(\n",
       "        (0): Conv2d(128, 256, kernel_size=(1, 1), stride=(2, 2), bias=False)\n",
       "        (1): BatchNorm2d(256, eps=1e-05, momentum=0.1, affine=True, track_running_stats=True)\n",
       "      )\n",
       "    )\n",
       "    (1): BasicBlock(\n",
       "      (conv1): Conv2d(256, 256, kernel_size=(3, 3), stride=(1, 1), padding=(1, 1), bias=False)\n",
       "      (bn1): BatchNorm2d(256, eps=1e-05, momentum=0.1, affine=True, track_running_stats=True)\n",
       "      (relu): ReLU(inplace=True)\n",
       "      (conv2): Conv2d(256, 256, kernel_size=(3, 3), stride=(1, 1), padding=(1, 1), bias=False)\n",
       "      (bn2): BatchNorm2d(256, eps=1e-05, momentum=0.1, affine=True, track_running_stats=True)\n",
       "    )\n",
       "  )\n",
       "  (layer4): Sequential(\n",
       "    (0): BasicBlock(\n",
       "      (conv1): Conv2d(256, 512, kernel_size=(3, 3), stride=(2, 2), padding=(1, 1), bias=False)\n",
       "      (bn1): BatchNorm2d(512, eps=1e-05, momentum=0.1, affine=True, track_running_stats=True)\n",
       "      (relu): ReLU(inplace=True)\n",
       "      (conv2): Conv2d(512, 512, kernel_size=(3, 3), stride=(1, 1), padding=(1, 1), bias=False)\n",
       "      (bn2): BatchNorm2d(512, eps=1e-05, momentum=0.1, affine=True, track_running_stats=True)\n",
       "      (downsample): Sequential(\n",
       "        (0): Conv2d(256, 512, kernel_size=(1, 1), stride=(2, 2), bias=False)\n",
       "        (1): BatchNorm2d(512, eps=1e-05, momentum=0.1, affine=True, track_running_stats=True)\n",
       "      )\n",
       "    )\n",
       "    (1): BasicBlock(\n",
       "      (conv1): Conv2d(512, 512, kernel_size=(3, 3), stride=(1, 1), padding=(1, 1), bias=False)\n",
       "      (bn1): BatchNorm2d(512, eps=1e-05, momentum=0.1, affine=True, track_running_stats=True)\n",
       "      (relu): ReLU(inplace=True)\n",
       "      (conv2): Conv2d(512, 512, kernel_size=(3, 3), stride=(1, 1), padding=(1, 1), bias=False)\n",
       "      (bn2): BatchNorm2d(512, eps=1e-05, momentum=0.1, affine=True, track_running_stats=True)\n",
       "    )\n",
       "  )\n",
       "  (avgpool): AdaptiveAvgPool2d(output_size=(1, 1))\n",
       "  (fc): Linear(in_features=512, out_features=1000, bias=True)\n",
       ")"
      ]
     },
     "execution_count": 7,
     "metadata": {},
     "output_type": "execute_result"
    }
   ],
   "source": [
    "model = resnet18(weights=ResNet18_Weights)\n",
    "model"
   ]
  },
  {
   "cell_type": "code",
   "execution_count": 8,
   "id": "128f84d1-c8fd-4d4f-8f66-3f99f65c045a",
   "metadata": {},
   "outputs": [],
   "source": [
    "def create_transforms():\n",
    "    train_transform = transforms.Compose([\n",
    "        transforms.Resize((150,150)),\n",
    "        transforms.RandomCrop((128,128)),\n",
    "        transforms.RandomHorizontalFlip(p=0.2),\n",
    "        transforms.ColorJitter(brightness=0.1,contrast=0.1,saturation=0.1,hue=0.1),\n",
    "        transforms.ToTensor(),\n",
    "        transforms.Normalize((0.5,0.5,0.5), (0.5,0.5,0.5)) #-> [0,1] -> [-1,1] \n",
    "        \n",
    "    ])\n",
    "\n",
    "    valid_transform = transforms.Compose([\n",
    "        transforms.Resize((150,150)),\n",
    "        transforms.CenterCrop((128,128)),\n",
    "        transforms.ToTensor(),\n",
    "        transforms.Normalize((0.5,0.5,0.5), (0.5,0.5,0.5)) #-> [0,1] -> [-1,1] \n",
    "        \n",
    "    ])\n",
    "    return train_transform, valid_transform"
   ]
  },
  {
   "cell_type": "code",
   "execution_count": 9,
   "id": "b0b185cc-5db5-4d35-90d3-bcd9769e29c4",
   "metadata": {
    "tags": []
   },
   "outputs": [],
   "source": [
    "def get_cifar_dataloader(batch_size):\n",
    "    weights = ResNet18_Weights.IMAGENET1K_V1\n",
    "    resnet18_transforms = weights.transforms()\n",
    "    train_transform, valid_transform  = create_transforms()\n",
    "    with FileLock(os.path.expanduser(\"~/cifar_data.lock\")):\n",
    "        train = CIFAR10(\n",
    "            root=\"~/cifar_data\",\n",
    "            train=True,\n",
    "            download=True,\n",
    "            transform=resnet18_transforms,\n",
    "        )\n",
    "        valid = CIFAR10(\n",
    "            root=\"~/cifar_data\",\n",
    "            train=False,\n",
    "            download=True,\n",
    "            transform=resnet18_transforms,\n",
    "        )\n",
    "    #train_sub = Subset(train,indices=range(1000))\n",
    "    #valid_sub = Subset(valid,indices=range(1000))\n",
    "    # dataloaders to get data in batches\n",
    "    train_dataloader = DataLoader(train, batch_size=batch_size, shuffle=True)\n",
    "    valid_dataloader = DataLoader(valid, batch_size=batch_size)\n",
    "\n",
    "    return train_dataloader, valid_dataloader\n",
    "\n"
   ]
  },
  {
   "cell_type": "code",
   "execution_count": 10,
   "id": "8ebd4958",
   "metadata": {},
   "outputs": [],
   "source": [
    "sample_dataloader = next(iter(get_cifar_dataloader(3)))\n",
    "single_batch =  next(iter(sample_dataloader))"
   ]
  },
  {
   "cell_type": "code",
   "execution_count": 11,
   "id": "fbb0009f",
   "metadata": {},
   "outputs": [
    {
     "data": {
      "text/plain": [
       "torch.Size([3])"
      ]
     },
     "execution_count": 11,
     "metadata": {},
     "output_type": "execute_result"
    }
   ],
   "source": [
    "single_batch[1].shape"
   ]
  },
  {
   "cell_type": "code",
   "execution_count": 12,
   "id": "eae4d223",
   "metadata": {},
   "outputs": [
    {
     "data": {
      "text/plain": [
       "torch.Size([3, 3, 224, 224])"
      ]
     },
     "execution_count": 12,
     "metadata": {},
     "output_type": "execute_result"
    }
   ],
   "source": [
    "single_batch[0].shape"
   ]
  },
  {
   "cell_type": "code",
   "execution_count": 13,
   "id": "2919c541-40c1-41cd-af91-7e2610bbb33e",
   "metadata": {
    "tags": []
   },
   "outputs": [],
   "source": [
    "def train_func(config):\n",
    "\n",
    "    epochs = config[\"epochs\"]\n",
    "    batch_size = config[\"batch_size\"]\n",
    "    lr = config[\"lr\"]\n",
    "    \n",
    "    \n",
    "    # use detected device\n",
    "    device = torch.device(\"cuda\" if torch.cuda.is_available() else \"mps\" if torch.backends.mps.is_available() else \"cpu\")\n",
    "\n",
    "    # metrics\n",
    "    accuracy = Accuracy(task=\"multiclass\", num_classes=config[\"num_classes\"]).to(device)\n",
    "    \n",
    "    device  = torch.device(\"cuda\" if torch.cuda.is_available() else \"cpu\")\n",
    "    weights = ResNet18_Weights.IMAGENET1K_V1\n",
    "\n",
    "\n",
    "    # freezing the all weights except the last one\n",
    "    model = resnet18(weights=weights)\n",
    "    # for parameter in model.parameters():\n",
    "    #     parameter.requires_grad = False\n",
    "\n",
    "    # outputs 10 classes\n",
    "    model.fc = nn.Linear(512,config[\"num_classes\"],bias=True)\n",
    "    # prepare model\n",
    "    model = ray.train.torch.prepare_model(model)\n",
    " \n",
    "    loss_fn = nn.CrossEntropyLoss()\n",
    "    optimizer = torch.optim.AdamW(model.parameters(), lr=config[\"lr\"], weight_decay=config[\"weight_decay\"])\n",
    "\n",
    "    train_dataloader, valid_dataloader = get_cifar_dataloader(batch_size=batch_size)\n",
    "    train_dataloader = ray.train.torch.prepare_data_loader(train_dataloader)\n",
    "    valid_dataloader = ray.train.torch.prepare_data_loader(valid_dataloader)\n",
    "\n",
    "    for epoch in range(epochs):\n",
    "        # checking if training is scheduled in a distributed setting or not.\n",
    "        if ray.train.get_context().get_world_size() > 1:\n",
    "            train_dataloader.sampler.set_epoch(epoch)\n",
    "        train_loss = 0.0\n",
    "        train_acc = 0.0\n",
    "        num_total = 0.0\n",
    "        num_correct = 0.0\n",
    "        #num_batches = 0.0\n",
    "        model.train()\n",
    "        for idx, batch in enumerate(train_dataloader):\n",
    "            x, y = batch[0], batch[1]\n",
    "            y_preds = model(x)\n",
    "            y_labels = y_preds.argmax(dim=1)\n",
    "            loss = loss_fn(y_preds,y)\n",
    "            acc = accuracy(y_labels,y)\n",
    "            train_loss +=  loss.item()\n",
    "            train_acc += acc.item()\n",
    "        train_loss /=len(train_dataloader)\n",
    "        train_acc /=len(train_dataloader)\n",
    "        metrics = {\"epoch\":epoch,\"train_loss\":train_loss, \"train_acc\":train_acc}\n",
    "\n",
    "        with tempfile.TemporaryDirectory() as temp_checkpoint_dir:\n",
    "            torch.save(\n",
    "                model.module.state_dict(),\n",
    "                os.path.join(temp_checkpoint_dir, \"model.pt\")\n",
    "            )\n",
    "            ray.train.report(\n",
    "                metrics,\n",
    "                checkpoint=ray.train.Checkpoint.from_directory(temp_checkpoint_dir),\n",
    "            )\n",
    "\n",
    "        if ray.train.get_context().get_world_rank() == 0:\n",
    "            print(metrics)"
   ]
  },
  {
   "cell_type": "code",
   "execution_count": 14,
   "id": "eead0973-1ef0-4c91-b313-f986c12cc0a1",
   "metadata": {
    "tags": []
   },
   "outputs": [
    {
     "name": "stderr",
     "output_type": "stream",
     "text": [
      "2025-08-03 09:05:54,634\tINFO worker.py:1747 -- Connecting to existing Ray cluster at address: 100.108.139.17:6379...\n",
      "2025-08-03 09:05:54,646\tINFO worker.py:1918 -- Connected to Ray cluster. View the dashboard at \u001b[1m\u001b[32mhttps://session-xsclvf1y3h8ri22vxrxzy7b516.i.anyscaleuserdata.com \u001b[39m\u001b[22m\n",
      "2025-08-03 09:05:54,649\tINFO packaging.py:380 -- Pushing file package 'gcs://_ray_pkg_60dc8a092d79df86c771badaeada41af6c17e613.zip' (0.12MiB) to Ray cluster...\n",
      "2025-08-03 09:05:54,650\tINFO packaging.py:393 -- Successfully pushed file package 'gcs://_ray_pkg_60dc8a092d79df86c771badaeada41af6c17e613.zip'.\n"
     ]
    }
   ],
   "source": [
    "global_batch_size = 300\n",
    "num_workers = 3\n",
    "use_gpu = True\n",
    "\n",
    "train_config = {\n",
    "    \"lr\": 0.01,\n",
    "    \"epochs\": 3,\n",
    "    \"num_classes\": 10,\n",
    "    \"batch_size\": global_batch_size // num_workers,\n",
    "    \"weight_decay\": 0.02\n",
    "}\n",
    "scaling_config = ScalingConfig(num_workers=num_workers, use_gpu=use_gpu)\n",
    "run_config = RunConfig(\n",
    "    storage_path=\"/mnt/cluster_storage\", # we could use s3 as well\n",
    "    name=f\"ray_train_torch_run-{uuid.uuid4().hex}\",\n",
    "    checkpoint_config = CheckpointConfig(num_to_keep=1,\n",
    "    checkpoint_score_attribute=\"train_acc\",\n",
    "    checkpoint_score_order=\"max\",) \n",
    ")\n",
    "\n",
    "trainer = TorchTrainer(\n",
    "    train_loop_per_worker=train_func,\n",
    "    train_loop_config=train_config,\n",
    "    scaling_config=scaling_config,\n",
    "    run_config=run_config,\n",
    ")"
   ]
  },
  {
   "cell_type": "code",
   "execution_count": 15,
   "id": "77710997-5f7f-479f-a4da-1f4549d71036",
   "metadata": {
    "tags": []
   },
   "outputs": [
    {
     "name": "stderr",
     "output_type": "stream",
     "text": [
      "2025-08-03 09:05:55,250\tINFO tune.py:616 -- [output] This uses the legacy output and progress reporter, as Jupyter notebooks are not supported by the new engine, yet. For more information, please see https://github.com/ray-project/ray/issues/36949\n"
     ]
    },
    {
     "name": "stdout",
     "output_type": "stream",
     "text": [
      "== Status ==\n",
      "Current time: 2025-08-03 09:05:55 (running for 00:00:00.11)\n",
      "Using FIFO scheduling algorithm.\n",
      "Logical resource usage: 0/24 CPUs, 0/3 GPUs (0.0/1.0 anyscale/cpu_only:true, 0.0/4.0 anyscale/provider:aws, 0.0/4.0 anyscale/region:us-east-2, 0.0/1.0 anyscale/node-group:head, 0.0/3.0 anyscale/node-group:1xT4:8CPU-32GB, 0.0/3.0 anyscale/accelerator_shape:1xT4, 0.0/3.0 accelerator_type:T4)\n",
      "Result logdir: /tmp/ray/session_2025-08-03_07-30-39_655412_2483/artifacts/2025-08-03_09-05-55/ray_train_torch_run-e4b622f8e1f74113b1d75fa68cf6ff73/driver_artifacts\n",
      "Number of trials: 1/1 (1 PENDING)\n",
      "\n",
      "\n",
      "\u001b[36m(autoscaler +17s)\u001b[0m Tip: use `ray status` to view detailed cluster status. To disable these messages, set RAY_SCHEDULER_EVENTS=0.\n",
      "== Status ==\n",
      "Current time: 2025-08-03 09:06:00 (running for 00:00:05.14)\n",
      "Using FIFO scheduling algorithm.\n",
      "Logical resource usage: 0/24 CPUs, 0/3 GPUs (0.0/1.0 anyscale/cpu_only:true, 0.0/4.0 anyscale/provider:aws, 0.0/4.0 anyscale/region:us-east-2, 0.0/1.0 anyscale/node-group:head, 0.0/3.0 anyscale/node-group:1xT4:8CPU-32GB, 0.0/3.0 anyscale/accelerator_shape:1xT4, 0.0/3.0 accelerator_type:T4)\n",
      "Result logdir: /tmp/ray/session_2025-08-03_07-30-39_655412_2483/artifacts/2025-08-03_09-05-55/ray_train_torch_run-e4b622f8e1f74113b1d75fa68cf6ff73/driver_artifacts\n",
      "Number of trials: 1/1 (1 PENDING)\n",
      "\n",
      "\n",
      "== Status ==\n",
      "Current time: 2025-08-03 09:06:05 (running for 00:00:10.16)\n",
      "Using FIFO scheduling algorithm.\n",
      "Logical resource usage: 0/24 CPUs, 0/3 GPUs (0.0/1.0 anyscale/cpu_only:true, 0.0/1.0 anyscale/node-group:head, 0.0/4.0 anyscale/provider:aws, 0.0/4.0 anyscale/region:us-east-2, 0.0/3.0 anyscale/accelerator_shape:1xT4, 0.0/3.0 accelerator_type:T4, 0.0/3.0 anyscale/node-group:1xT4:8CPU-32GB)\n",
      "Result logdir: /tmp/ray/session_2025-08-03_07-30-39_655412_2483/artifacts/2025-08-03_09-05-55/ray_train_torch_run-e4b622f8e1f74113b1d75fa68cf6ff73/driver_artifacts\n",
      "Number of trials: 1/1 (1 PENDING)\n",
      "\n",
      "\n",
      "== Status ==\n",
      "Current time: 2025-08-03 09:06:10 (running for 00:00:15.18)\n",
      "Using FIFO scheduling algorithm.\n",
      "Logical resource usage: 0/24 CPUs, 0/3 GPUs (0.0/1.0 anyscale/cpu_only:true, 0.0/1.0 anyscale/node-group:head, 0.0/4.0 anyscale/provider:aws, 0.0/4.0 anyscale/region:us-east-2, 0.0/3.0 anyscale/accelerator_shape:1xT4, 0.0/3.0 accelerator_type:T4, 0.0/3.0 anyscale/node-group:1xT4:8CPU-32GB)\n",
      "Result logdir: /tmp/ray/session_2025-08-03_07-30-39_655412_2483/artifacts/2025-08-03_09-05-55/ray_train_torch_run-e4b622f8e1f74113b1d75fa68cf6ff73/driver_artifacts\n",
      "Number of trials: 1/1 (1 PENDING)\n",
      "\n",
      "\n",
      "== Status ==\n",
      "Current time: 2025-08-03 09:06:15 (running for 00:00:20.21)\n",
      "Using FIFO scheduling algorithm.\n",
      "Logical resource usage: 0/24 CPUs, 0/3 GPUs (0.0/1.0 anyscale/cpu_only:true, 0.0/1.0 anyscale/node-group:head, 0.0/4.0 anyscale/region:us-east-2, 0.0/4.0 anyscale/provider:aws, 0.0/3.0 anyscale/node-group:1xT4:8CPU-32GB, 0.0/3.0 accelerator_type:T4, 0.0/3.0 anyscale/accelerator_shape:1xT4)\n",
      "Result logdir: /tmp/ray/session_2025-08-03_07-30-39_655412_2483/artifacts/2025-08-03_09-05-55/ray_train_torch_run-e4b622f8e1f74113b1d75fa68cf6ff73/driver_artifacts\n",
      "Number of trials: 1/1 (1 PENDING)\n",
      "\n",
      "\n",
      "== Status ==\n",
      "Current time: 2025-08-03 09:06:20 (running for 00:00:25.23)\n",
      "Using FIFO scheduling algorithm.\n",
      "Logical resource usage: 0/24 CPUs, 0/3 GPUs (0.0/1.0 anyscale/cpu_only:true, 0.0/1.0 anyscale/node-group:head, 0.0/4.0 anyscale/region:us-east-2, 0.0/4.0 anyscale/provider:aws, 0.0/3.0 anyscale/node-group:1xT4:8CPU-32GB, 0.0/3.0 accelerator_type:T4, 0.0/3.0 anyscale/accelerator_shape:1xT4)\n",
      "Result logdir: /tmp/ray/session_2025-08-03_07-30-39_655412_2483/artifacts/2025-08-03_09-05-55/ray_train_torch_run-e4b622f8e1f74113b1d75fa68cf6ff73/driver_artifacts\n",
      "Number of trials: 1/1 (1 PENDING)\n",
      "\n",
      "\n",
      "== Status ==\n",
      "Current time: 2025-08-03 09:06:25 (running for 00:00:30.25)\n",
      "Using FIFO scheduling algorithm.\n",
      "Logical resource usage: 0/24 CPUs, 0/3 GPUs (0.0/4.0 anyscale/provider:aws, 0.0/4.0 anyscale/region:us-east-2, 0.0/1.0 anyscale/cpu_only:true, 0.0/1.0 anyscale/node-group:head, 0.0/3.0 anyscale/node-group:1xT4:8CPU-32GB, 0.0/3.0 anyscale/accelerator_shape:1xT4, 0.0/3.0 accelerator_type:T4)\n",
      "Result logdir: /tmp/ray/session_2025-08-03_07-30-39_655412_2483/artifacts/2025-08-03_09-05-55/ray_train_torch_run-e4b622f8e1f74113b1d75fa68cf6ff73/driver_artifacts\n",
      "Number of trials: 1/1 (1 PENDING)\n",
      "\n",
      "\n",
      "== Status ==\n",
      "Current time: 2025-08-03 09:06:30 (running for 00:00:35.27)\n",
      "Using FIFO scheduling algorithm.\n",
      "Logical resource usage: 0/24 CPUs, 0/3 GPUs (0.0/4.0 anyscale/provider:aws, 0.0/4.0 anyscale/region:us-east-2, 0.0/1.0 anyscale/cpu_only:true, 0.0/1.0 anyscale/node-group:head, 0.0/3.0 anyscale/node-group:1xT4:8CPU-32GB, 0.0/3.0 anyscale/accelerator_shape:1xT4, 0.0/3.0 accelerator_type:T4)\n",
      "Result logdir: /tmp/ray/session_2025-08-03_07-30-39_655412_2483/artifacts/2025-08-03_09-05-55/ray_train_torch_run-e4b622f8e1f74113b1d75fa68cf6ff73/driver_artifacts\n",
      "Number of trials: 1/1 (1 PENDING)\n",
      "\n",
      "\n",
      "== Status ==\n",
      "Current time: 2025-08-03 09:06:35 (running for 00:00:40.30)\n",
      "Using FIFO scheduling algorithm.\n",
      "Logical resource usage: 0/24 CPUs, 0/3 GPUs (0.0/1.0 anyscale/cpu_only:true, 0.0/4.0 anyscale/provider:aws, 0.0/1.0 anyscale/node-group:head, 0.0/4.0 anyscale/region:us-east-2, 0.0/3.0 anyscale/accelerator_shape:1xT4, 0.0/3.0 accelerator_type:T4, 0.0/3.0 anyscale/node-group:1xT4:8CPU-32GB)\n",
      "Result logdir: /tmp/ray/session_2025-08-03_07-30-39_655412_2483/artifacts/2025-08-03_09-05-55/ray_train_torch_run-e4b622f8e1f74113b1d75fa68cf6ff73/driver_artifacts\n",
      "Number of trials: 1/1 (1 PENDING)\n",
      "\n",
      "\n",
      "== Status ==\n",
      "Current time: 2025-08-03 09:06:40 (running for 00:00:45.32)\n",
      "Using FIFO scheduling algorithm.\n",
      "Logical resource usage: 0/24 CPUs, 0/3 GPUs (0.0/1.0 anyscale/cpu_only:true, 0.0/4.0 anyscale/provider:aws, 0.0/1.0 anyscale/node-group:head, 0.0/4.0 anyscale/region:us-east-2, 0.0/3.0 anyscale/accelerator_shape:1xT4, 0.0/3.0 accelerator_type:T4, 0.0/3.0 anyscale/node-group:1xT4:8CPU-32GB)\n",
      "Result logdir: /tmp/ray/session_2025-08-03_07-30-39_655412_2483/artifacts/2025-08-03_09-05-55/ray_train_torch_run-e4b622f8e1f74113b1d75fa68cf6ff73/driver_artifacts\n",
      "Number of trials: 1/1 (1 PENDING)\n",
      "\n",
      "\n",
      "== Status ==\n",
      "Current time: 2025-08-03 09:06:45 (running for 00:00:50.34)\n",
      "Using FIFO scheduling algorithm.\n",
      "Logical resource usage: 0/24 CPUs, 0/3 GPUs (0.0/1.0 anyscale/node-group:head, 0.0/4.0 anyscale/provider:aws, 0.0/4.0 anyscale/region:us-east-2, 0.0/1.0 anyscale/cpu_only:true, 0.0/3.0 accelerator_type:T4, 0.0/3.0 anyscale/node-group:1xT4:8CPU-32GB, 0.0/3.0 anyscale/accelerator_shape:1xT4)\n",
      "Result logdir: /tmp/ray/session_2025-08-03_07-30-39_655412_2483/artifacts/2025-08-03_09-05-55/ray_train_torch_run-e4b622f8e1f74113b1d75fa68cf6ff73/driver_artifacts\n",
      "Number of trials: 1/1 (1 PENDING)\n",
      "\n",
      "\n",
      "== Status ==\n",
      "Current time: 2025-08-03 09:06:50 (running for 00:00:55.37)\n",
      "Using FIFO scheduling algorithm.\n",
      "Logical resource usage: 0/24 CPUs, 0/3 GPUs (0.0/1.0 anyscale/node-group:head, 0.0/4.0 anyscale/provider:aws, 0.0/4.0 anyscale/region:us-east-2, 0.0/1.0 anyscale/cpu_only:true, 0.0/3.0 accelerator_type:T4, 0.0/3.0 anyscale/node-group:1xT4:8CPU-32GB, 0.0/3.0 anyscale/accelerator_shape:1xT4)\n",
      "Result logdir: /tmp/ray/session_2025-08-03_07-30-39_655412_2483/artifacts/2025-08-03_09-05-55/ray_train_torch_run-e4b622f8e1f74113b1d75fa68cf6ff73/driver_artifacts\n",
      "Number of trials: 1/1 (1 PENDING)\n",
      "\n",
      "\n",
      "== Status ==\n",
      "Current time: 2025-08-03 09:06:55 (running for 00:01:00.39)\n",
      "Using FIFO scheduling algorithm.\n",
      "Logical resource usage: 0/24 CPUs, 0/3 GPUs (0.0/4.0 anyscale/region:us-east-2, 0.0/1.0 anyscale/node-group:head, 0.0/1.0 anyscale/cpu_only:true, 0.0/4.0 anyscale/provider:aws, 0.0/3.0 anyscale/accelerator_shape:1xT4, 0.0/3.0 accelerator_type:T4, 0.0/3.0 anyscale/node-group:1xT4:8CPU-32GB)\n",
      "Result logdir: /tmp/ray/session_2025-08-03_07-30-39_655412_2483/artifacts/2025-08-03_09-05-55/ray_train_torch_run-e4b622f8e1f74113b1d75fa68cf6ff73/driver_artifacts\n",
      "Number of trials: 1/1 (1 PENDING)\n",
      "\n",
      "\n",
      "== Status ==\n",
      "Current time: 2025-08-03 09:07:00 (running for 00:01:05.41)\n",
      "Using FIFO scheduling algorithm.\n",
      "Logical resource usage: 0/24 CPUs, 0/3 GPUs (0.0/4.0 anyscale/region:us-east-2, 0.0/1.0 anyscale/node-group:head, 0.0/1.0 anyscale/cpu_only:true, 0.0/4.0 anyscale/provider:aws, 0.0/3.0 anyscale/accelerator_shape:1xT4, 0.0/3.0 accelerator_type:T4, 0.0/3.0 anyscale/node-group:1xT4:8CPU-32GB)\n",
      "Result logdir: /tmp/ray/session_2025-08-03_07-30-39_655412_2483/artifacts/2025-08-03_09-05-55/ray_train_torch_run-e4b622f8e1f74113b1d75fa68cf6ff73/driver_artifacts\n",
      "Number of trials: 1/1 (1 PENDING)\n",
      "\n",
      "\n",
      "== Status ==\n",
      "Current time: 2025-08-03 09:07:05 (running for 00:01:10.44)\n",
      "Using FIFO scheduling algorithm.\n",
      "Logical resource usage: 0/24 CPUs, 0/3 GPUs (0.0/4.0 anyscale/region:us-east-2, 0.0/1.0 anyscale/node-group:head, 0.0/4.0 anyscale/provider:aws, 0.0/1.0 anyscale/cpu_only:true, 0.0/3.0 anyscale/node-group:1xT4:8CPU-32GB, 0.0/3.0 accelerator_type:T4, 0.0/3.0 anyscale/accelerator_shape:1xT4)\n",
      "Result logdir: /tmp/ray/session_2025-08-03_07-30-39_655412_2483/artifacts/2025-08-03_09-05-55/ray_train_torch_run-e4b622f8e1f74113b1d75fa68cf6ff73/driver_artifacts\n",
      "Number of trials: 1/1 (1 PENDING)\n",
      "\n",
      "\n",
      "== Status ==\n",
      "Current time: 2025-08-03 09:07:10 (running for 00:01:15.46)\n",
      "Using FIFO scheduling algorithm.\n",
      "Logical resource usage: 0/24 CPUs, 0/3 GPUs (0.0/4.0 anyscale/region:us-east-2, 0.0/1.0 anyscale/node-group:head, 0.0/4.0 anyscale/provider:aws, 0.0/1.0 anyscale/cpu_only:true, 0.0/3.0 anyscale/node-group:1xT4:8CPU-32GB, 0.0/3.0 accelerator_type:T4, 0.0/3.0 anyscale/accelerator_shape:1xT4)\n",
      "Result logdir: /tmp/ray/session_2025-08-03_07-30-39_655412_2483/artifacts/2025-08-03_09-05-55/ray_train_torch_run-e4b622f8e1f74113b1d75fa68cf6ff73/driver_artifacts\n",
      "Number of trials: 1/1 (1 PENDING)\n",
      "\n",
      "\n",
      "== Status ==\n",
      "Current time: 2025-08-03 09:07:15 (running for 00:01:20.48)\n",
      "Using FIFO scheduling algorithm.\n",
      "Logical resource usage: 0/24 CPUs, 0/3 GPUs (0.0/1.0 anyscale/cpu_only:true, 0.0/4.0 anyscale/provider:aws, 0.0/4.0 anyscale/region:us-east-2, 0.0/1.0 anyscale/node-group:head, 0.0/3.0 accelerator_type:T4, 0.0/3.0 anyscale/accelerator_shape:1xT4, 0.0/3.0 anyscale/node-group:1xT4:8CPU-32GB)\n",
      "Result logdir: /tmp/ray/session_2025-08-03_07-30-39_655412_2483/artifacts/2025-08-03_09-05-55/ray_train_torch_run-e4b622f8e1f74113b1d75fa68cf6ff73/driver_artifacts\n",
      "Number of trials: 1/1 (1 PENDING)\n",
      "\n",
      "\n",
      "== Status ==\n",
      "Current time: 2025-08-03 09:07:20 (running for 00:01:25.50)\n",
      "Using FIFO scheduling algorithm.\n",
      "Logical resource usage: 0/24 CPUs, 0/3 GPUs (0.0/1.0 anyscale/cpu_only:true, 0.0/4.0 anyscale/provider:aws, 0.0/4.0 anyscale/region:us-east-2, 0.0/1.0 anyscale/node-group:head, 0.0/3.0 accelerator_type:T4, 0.0/3.0 anyscale/accelerator_shape:1xT4, 0.0/3.0 anyscale/node-group:1xT4:8CPU-32GB)\n",
      "Result logdir: /tmp/ray/session_2025-08-03_07-30-39_655412_2483/artifacts/2025-08-03_09-05-55/ray_train_torch_run-e4b622f8e1f74113b1d75fa68cf6ff73/driver_artifacts\n",
      "Number of trials: 1/1 (1 PENDING)\n",
      "\n",
      "\n",
      "== Status ==\n",
      "Current time: 2025-08-03 09:07:26 (running for 00:01:30.53)\n",
      "Using FIFO scheduling algorithm.\n",
      "Logical resource usage: 0/24 CPUs, 0/3 GPUs (0.0/4.0 anyscale/region:us-east-2, 0.0/1.0 anyscale/cpu_only:true, 0.0/4.0 anyscale/provider:aws, 0.0/1.0 anyscale/node-group:head, 0.0/3.0 accelerator_type:T4, 0.0/3.0 anyscale/node-group:1xT4:8CPU-32GB, 0.0/3.0 anyscale/accelerator_shape:1xT4)\n",
      "Result logdir: /tmp/ray/session_2025-08-03_07-30-39_655412_2483/artifacts/2025-08-03_09-05-55/ray_train_torch_run-e4b622f8e1f74113b1d75fa68cf6ff73/driver_artifacts\n",
      "Number of trials: 1/1 (1 PENDING)\n",
      "\n",
      "\n",
      "== Status ==\n",
      "Current time: 2025-08-03 09:07:31 (running for 00:01:35.55)\n",
      "Using FIFO scheduling algorithm.\n",
      "Logical resource usage: 1.0/24 CPUs, 3.0/3 GPUs (0.0/4.0 anyscale/region:us-east-2, 0.0/1.0 anyscale/cpu_only:true, 0.0/4.0 anyscale/provider:aws, 0.0/1.0 anyscale/node-group:head, 0.0/3.0 accelerator_type:T4, 0.0/3.0 anyscale/node-group:1xT4:8CPU-32GB, 0.0/3.0 anyscale/accelerator_shape:1xT4)\n",
      "Result logdir: /tmp/ray/session_2025-08-03_07-30-39_655412_2483/artifacts/2025-08-03_09-05-55/ray_train_torch_run-e4b622f8e1f74113b1d75fa68cf6ff73/driver_artifacts\n",
      "Number of trials: 1/1 (1 PENDING)\n",
      "\n",
      "\n",
      "== Status ==\n",
      "Current time: 2025-08-03 09:07:36 (running for 00:01:40.57)\n",
      "Using FIFO scheduling algorithm.\n",
      "Logical resource usage: 1.0/24 CPUs, 3.0/3 GPUs (0.0/4.0 anyscale/region:us-east-2, 0.0/1.0 anyscale/node-group:head, 0.0/1.0 anyscale/cpu_only:true, 0.0/4.0 anyscale/provider:aws, 0.0/3.0 anyscale/node-group:1xT4:8CPU-32GB, 0.0/3.0 anyscale/accelerator_shape:1xT4, 0.0/3.0 accelerator_type:T4)\n",
      "Result logdir: /tmp/ray/session_2025-08-03_07-30-39_655412_2483/artifacts/2025-08-03_09-05-55/ray_train_torch_run-e4b622f8e1f74113b1d75fa68cf6ff73/driver_artifacts\n",
      "Number of trials: 1/1 (1 PENDING)\n",
      "\n",
      "\n"
     ]
    },
    {
     "name": "stderr",
     "output_type": "stream",
     "text": [
      "\u001b[36m(RayTrainWorker pid=4977, ip=100.90.215.82)\u001b[0m Setting up process group for: env:// [rank=0, world_size=3]\n",
      "\u001b[36m(TorchTrainer pid=4895, ip=100.90.215.82)\u001b[0m Started distributed worker processes: \n",
      "\u001b[36m(TorchTrainer pid=4895, ip=100.90.215.82)\u001b[0m - (node_id=4d68ed390060105286853ea9ec73313e42c08e9bf80bbc3288a189e5, ip=100.90.215.82, pid=4977) world_rank=0, local_rank=0, node_rank=0\n",
      "\u001b[36m(TorchTrainer pid=4895, ip=100.90.215.82)\u001b[0m - (node_id=143f48506de8088ec7e36dc3ac878fea5b9e59c000730412700a8592, ip=100.104.168.4, pid=4895) world_rank=1, local_rank=0, node_rank=1\n",
      "\u001b[36m(TorchTrainer pid=4895, ip=100.90.215.82)\u001b[0m - (node_id=454ae614fa641111af4f16fdd1cabcf75b3a440a5919e2be97329256, ip=100.93.167.84, pid=4968) world_rank=2, local_rank=0, node_rank=2\n"
     ]
    },
    {
     "name": "stdout",
     "output_type": "stream",
     "text": [
      "== Status ==\n",
      "Current time: 2025-08-03 09:07:41 (running for 00:01:45.63)\n",
      "Using FIFO scheduling algorithm.\n",
      "Logical resource usage: 1.0/24 CPUs, 3.0/3 GPUs (0.0/4.0 anyscale/region:us-east-2, 0.0/1.0 anyscale/node-group:head, 0.0/1.0 anyscale/cpu_only:true, 0.0/4.0 anyscale/provider:aws, 0.0/3.0 anyscale/node-group:1xT4:8CPU-32GB, 0.0/3.0 anyscale/accelerator_shape:1xT4, 0.0/3.0 accelerator_type:T4)\n",
      "Result logdir: /tmp/ray/session_2025-08-03_07-30-39_655412_2483/artifacts/2025-08-03_09-05-55/ray_train_torch_run-e4b622f8e1f74113b1d75fa68cf6ff73/driver_artifacts\n",
      "Number of trials: 1/1 (1 RUNNING)\n",
      "\n",
      "\n"
     ]
    },
    {
     "name": "stderr",
     "output_type": "stream",
     "text": [
      "\u001b[36m(RayTrainWorker pid=4977, ip=100.90.215.82)\u001b[0m Moving model to device: cuda:0\n",
      "\u001b[36m(RayTrainWorker pid=4977, ip=100.90.215.82)\u001b[0m Wrapping provided model in DistributedDataParallel.\n"
     ]
    },
    {
     "name": "stdout",
     "output_type": "stream",
     "text": [
      "== Status ==\n",
      "Current time: 2025-08-03 09:07:46 (running for 00:01:50.65)\n",
      "Using FIFO scheduling algorithm.\n",
      "Logical resource usage: 1.0/24 CPUs, 3.0/3 GPUs (0.0/1.0 anyscale/node-group:head, 0.0/4.0 anyscale/provider:aws, 0.0/4.0 anyscale/region:us-east-2, 0.0/1.0 anyscale/cpu_only:true, 0.0/3.0 accelerator_type:T4, 0.0/3.0 anyscale/node-group:1xT4:8CPU-32GB, 0.0/3.0 anyscale/accelerator_shape:1xT4)\n",
      "Result logdir: /tmp/ray/session_2025-08-03_07-30-39_655412_2483/artifacts/2025-08-03_09-05-55/ray_train_torch_run-e4b622f8e1f74113b1d75fa68cf6ff73/driver_artifacts\n",
      "Number of trials: 1/1 (1 RUNNING)\n",
      "\n",
      "\n",
      "== Status ==\n",
      "Current time: 2025-08-03 09:07:51 (running for 00:01:55.67)\n",
      "Using FIFO scheduling algorithm.\n",
      "Logical resource usage: 1.0/24 CPUs, 3.0/3 GPUs (0.0/1.0 anyscale/node-group:head, 0.0/4.0 anyscale/provider:aws, 0.0/4.0 anyscale/region:us-east-2, 0.0/1.0 anyscale/cpu_only:true, 0.0/3.0 accelerator_type:T4, 0.0/3.0 anyscale/node-group:1xT4:8CPU-32GB, 0.0/3.0 anyscale/accelerator_shape:1xT4)\n",
      "Result logdir: /tmp/ray/session_2025-08-03_07-30-39_655412_2483/artifacts/2025-08-03_09-05-55/ray_train_torch_run-e4b622f8e1f74113b1d75fa68cf6ff73/driver_artifacts\n",
      "Number of trials: 1/1 (1 RUNNING)\n",
      "\n",
      "\n",
      "== Status ==\n",
      "Current time: 2025-08-03 09:07:56 (running for 00:02:00.69)\n",
      "Using FIFO scheduling algorithm.\n",
      "Logical resource usage: 1.0/24 CPUs, 3.0/3 GPUs (0.0/1.0 anyscale/cpu_only:true, 0.0/1.0 anyscale/node-group:head, 0.0/4.0 anyscale/provider:aws, 0.0/4.0 anyscale/region:us-east-2, 0.0/3.0 accelerator_type:T4, 0.0/3.0 anyscale/accelerator_shape:1xT4, 0.0/3.0 anyscale/node-group:1xT4:8CPU-32GB)\n",
      "Result logdir: /tmp/ray/session_2025-08-03_07-30-39_655412_2483/artifacts/2025-08-03_09-05-55/ray_train_torch_run-e4b622f8e1f74113b1d75fa68cf6ff73/driver_artifacts\n",
      "Number of trials: 1/1 (1 RUNNING)\n",
      "\n",
      "\n",
      "== Status ==\n",
      "Current time: 2025-08-03 09:08:01 (running for 00:02:05.71)\n",
      "Using FIFO scheduling algorithm.\n",
      "Logical resource usage: 1.0/24 CPUs, 3.0/3 GPUs (0.0/1.0 anyscale/cpu_only:true, 0.0/1.0 anyscale/node-group:head, 0.0/4.0 anyscale/provider:aws, 0.0/4.0 anyscale/region:us-east-2, 0.0/3.0 accelerator_type:T4, 0.0/3.0 anyscale/accelerator_shape:1xT4, 0.0/3.0 anyscale/node-group:1xT4:8CPU-32GB)\n",
      "Result logdir: /tmp/ray/session_2025-08-03_07-30-39_655412_2483/artifacts/2025-08-03_09-05-55/ray_train_torch_run-e4b622f8e1f74113b1d75fa68cf6ff73/driver_artifacts\n",
      "Number of trials: 1/1 (1 RUNNING)\n",
      "\n",
      "\n",
      "== Status ==\n",
      "Current time: 2025-08-03 09:08:06 (running for 00:02:10.73)\n",
      "Using FIFO scheduling algorithm.\n",
      "Logical resource usage: 1.0/24 CPUs, 3.0/3 GPUs (0.0/1.0 anyscale/cpu_only:true, 0.0/4.0 anyscale/region:us-east-2, 0.0/1.0 anyscale/node-group:head, 0.0/4.0 anyscale/provider:aws, 0.0/3.0 anyscale/node-group:1xT4:8CPU-32GB, 0.0/3.0 accelerator_type:T4, 0.0/3.0 anyscale/accelerator_shape:1xT4)\n",
      "Result logdir: /tmp/ray/session_2025-08-03_07-30-39_655412_2483/artifacts/2025-08-03_09-05-55/ray_train_torch_run-e4b622f8e1f74113b1d75fa68cf6ff73/driver_artifacts\n",
      "Number of trials: 1/1 (1 RUNNING)\n",
      "\n",
      "\n",
      "== Status ==\n",
      "Current time: 2025-08-03 09:08:11 (running for 00:02:15.75)\n",
      "Using FIFO scheduling algorithm.\n",
      "Logical resource usage: 1.0/24 CPUs, 3.0/3 GPUs (0.0/1.0 anyscale/cpu_only:true, 0.0/4.0 anyscale/region:us-east-2, 0.0/1.0 anyscale/node-group:head, 0.0/4.0 anyscale/provider:aws, 0.0/3.0 anyscale/node-group:1xT4:8CPU-32GB, 0.0/3.0 accelerator_type:T4, 0.0/3.0 anyscale/accelerator_shape:1xT4)\n",
      "Result logdir: /tmp/ray/session_2025-08-03_07-30-39_655412_2483/artifacts/2025-08-03_09-05-55/ray_train_torch_run-e4b622f8e1f74113b1d75fa68cf6ff73/driver_artifacts\n",
      "Number of trials: 1/1 (1 RUNNING)\n",
      "\n",
      "\n",
      "== Status ==\n",
      "Current time: 2025-08-03 09:08:16 (running for 00:02:20.77)\n",
      "Using FIFO scheduling algorithm.\n",
      "Logical resource usage: 1.0/24 CPUs, 3.0/3 GPUs (0.0/4.0 anyscale/region:us-east-2, 0.0/1.0 anyscale/node-group:head, 0.0/1.0 anyscale/cpu_only:true, 0.0/4.0 anyscale/provider:aws, 0.0/3.0 accelerator_type:T4, 0.0/3.0 anyscale/node-group:1xT4:8CPU-32GB, 0.0/3.0 anyscale/accelerator_shape:1xT4)\n",
      "Result logdir: /tmp/ray/session_2025-08-03_07-30-39_655412_2483/artifacts/2025-08-03_09-05-55/ray_train_torch_run-e4b622f8e1f74113b1d75fa68cf6ff73/driver_artifacts\n",
      "Number of trials: 1/1 (1 RUNNING)\n",
      "\n",
      "\n",
      "== Status ==\n",
      "Current time: 2025-08-03 09:08:21 (running for 00:02:25.79)\n",
      "Using FIFO scheduling algorithm.\n",
      "Logical resource usage: 1.0/24 CPUs, 3.0/3 GPUs (0.0/4.0 anyscale/region:us-east-2, 0.0/1.0 anyscale/node-group:head, 0.0/1.0 anyscale/cpu_only:true, 0.0/4.0 anyscale/provider:aws, 0.0/3.0 accelerator_type:T4, 0.0/3.0 anyscale/node-group:1xT4:8CPU-32GB, 0.0/3.0 anyscale/accelerator_shape:1xT4)\n",
      "Result logdir: /tmp/ray/session_2025-08-03_07-30-39_655412_2483/artifacts/2025-08-03_09-05-55/ray_train_torch_run-e4b622f8e1f74113b1d75fa68cf6ff73/driver_artifacts\n",
      "Number of trials: 1/1 (1 RUNNING)\n",
      "\n",
      "\n",
      "== Status ==\n",
      "Current time: 2025-08-03 09:08:26 (running for 00:02:30.81)\n",
      "Using FIFO scheduling algorithm.\n",
      "Logical resource usage: 1.0/24 CPUs, 3.0/3 GPUs (0.0/4.0 anyscale/region:us-east-2, 0.0/1.0 anyscale/node-group:head, 0.0/4.0 anyscale/provider:aws, 0.0/1.0 anyscale/cpu_only:true, 0.0/3.0 anyscale/accelerator_shape:1xT4, 0.0/3.0 anyscale/node-group:1xT4:8CPU-32GB, 0.0/3.0 accelerator_type:T4)\n",
      "Result logdir: /tmp/ray/session_2025-08-03_07-30-39_655412_2483/artifacts/2025-08-03_09-05-55/ray_train_torch_run-e4b622f8e1f74113b1d75fa68cf6ff73/driver_artifacts\n",
      "Number of trials: 1/1 (1 RUNNING)\n",
      "\n",
      "\n",
      "== Status ==\n",
      "Current time: 2025-08-03 09:08:31 (running for 00:02:35.82)\n",
      "Using FIFO scheduling algorithm.\n",
      "Logical resource usage: 1.0/24 CPUs, 3.0/3 GPUs (0.0/4.0 anyscale/region:us-east-2, 0.0/1.0 anyscale/node-group:head, 0.0/4.0 anyscale/provider:aws, 0.0/1.0 anyscale/cpu_only:true, 0.0/3.0 anyscale/accelerator_shape:1xT4, 0.0/3.0 anyscale/node-group:1xT4:8CPU-32GB, 0.0/3.0 accelerator_type:T4)\n",
      "Result logdir: /tmp/ray/session_2025-08-03_07-30-39_655412_2483/artifacts/2025-08-03_09-05-55/ray_train_torch_run-e4b622f8e1f74113b1d75fa68cf6ff73/driver_artifacts\n",
      "Number of trials: 1/1 (1 RUNNING)\n",
      "\n",
      "\n",
      "== Status ==\n",
      "Current time: 2025-08-03 09:08:36 (running for 00:02:40.84)\n",
      "Using FIFO scheduling algorithm.\n",
      "Logical resource usage: 1.0/24 CPUs, 3.0/3 GPUs (0.0/4.0 anyscale/region:us-east-2, 0.0/1.0 anyscale/node-group:head, 0.0/1.0 anyscale/cpu_only:true, 0.0/4.0 anyscale/provider:aws, 0.0/3.0 anyscale/node-group:1xT4:8CPU-32GB, 0.0/3.0 anyscale/accelerator_shape:1xT4, 0.0/3.0 accelerator_type:T4)\n",
      "Result logdir: /tmp/ray/session_2025-08-03_07-30-39_655412_2483/artifacts/2025-08-03_09-05-55/ray_train_torch_run-e4b622f8e1f74113b1d75fa68cf6ff73/driver_artifacts\n",
      "Number of trials: 1/1 (1 RUNNING)\n",
      "\n",
      "\n"
     ]
    },
    {
     "name": "stderr",
     "output_type": "stream",
     "text": [
      "\u001b[36m(RayTrainWorker pid=4895, ip=100.104.168.4)\u001b[0m Checkpoint successfully created at: Checkpoint(filesystem=local, path=/mnt/cluster_storage/ray_train_torch_run-e4b622f8e1f74113b1d75fa68cf6ff73/TorchTrainer_100cc_00000_0_2025-08-03_09-05-55/checkpoint_000000)\n",
      "\u001b[36m(RayTrainWorker pid=4895, ip=100.104.168.4)\u001b[0m Moving model to device: cuda:0\u001b[32m [repeated 2x across cluster] (Ray deduplicates logs by default. Set RAY_DEDUP_LOGS=0 to disable log deduplication, or see https://docs.ray.io/en/master/ray-observability/user-guides/configure-logging.html#log-deduplication for more options.)\u001b[0m\n",
      "\u001b[36m(RayTrainWorker pid=4895, ip=100.104.168.4)\u001b[0m Wrapping provided model in DistributedDataParallel.\u001b[32m [repeated 2x across cluster]\u001b[0m\n",
      "2025-08-03 09:08:38,254\tWARNING experiment_state.py:206 -- Experiment state snapshotting has been triggered multiple times in the last 5.0 seconds and may become a bottleneck. A snapshot is forced if `CheckpointConfig(num_to_keep)` is set, and a trial has checkpointed >= `num_to_keep` times since the last snapshot.\n",
      "You may want to consider increasing the `CheckpointConfig(num_to_keep)` or decreasing the frequency of saving checkpoints.\n",
      "You can suppress this warning by setting the environment variable TUNE_WARN_EXCESSIVE_EXPERIMENT_CHECKPOINT_SYNC_THRESHOLD_S to a smaller value than the current threshold (5.0). Set it to 0 to completely suppress this warning.\n"
     ]
    },
    {
     "name": "stdout",
     "output_type": "stream",
     "text": [
      "\u001b[36m(RayTrainWorker pid=4977, ip=100.90.215.82)\u001b[0m {'epoch': 0, 'train_loss': 2.4220690441702653, 'train_acc': 0.09011707944561265}\n",
      "== Status ==\n",
      "Current time: 2025-08-03 09:08:41 (running for 00:02:45.89)\n",
      "Using FIFO scheduling algorithm.\n",
      "Logical resource usage: 1.0/24 CPUs, 3.0/3 GPUs (0.0/4.0 anyscale/region:us-east-2, 0.0/1.0 anyscale/node-group:head, 0.0/1.0 anyscale/cpu_only:true, 0.0/4.0 anyscale/provider:aws, 0.0/3.0 anyscale/node-group:1xT4:8CPU-32GB, 0.0/3.0 anyscale/accelerator_shape:1xT4, 0.0/3.0 accelerator_type:T4)\n",
      "Result logdir: /tmp/ray/session_2025-08-03_07-30-39_655412_2483/artifacts/2025-08-03_09-05-55/ray_train_torch_run-e4b622f8e1f74113b1d75fa68cf6ff73/driver_artifacts\n",
      "Number of trials: 1/1 (1 RUNNING)\n",
      "\n",
      "\n",
      "== Status ==\n",
      "Current time: 2025-08-03 09:08:46 (running for 00:02:50.90)\n",
      "Using FIFO scheduling algorithm.\n",
      "Logical resource usage: 1.0/24 CPUs, 3.0/3 GPUs (0.0/4.0 anyscale/region:us-east-2, 0.0/1.0 anyscale/cpu_only:true, 0.0/1.0 anyscale/node-group:head, 0.0/4.0 anyscale/provider:aws, 0.0/3.0 anyscale/node-group:1xT4:8CPU-32GB, 0.0/3.0 anyscale/accelerator_shape:1xT4, 0.0/3.0 accelerator_type:T4)\n",
      "Result logdir: /tmp/ray/session_2025-08-03_07-30-39_655412_2483/artifacts/2025-08-03_09-05-55/ray_train_torch_run-e4b622f8e1f74113b1d75fa68cf6ff73/driver_artifacts\n",
      "Number of trials: 1/1 (1 RUNNING)\n",
      "\n",
      "\n",
      "== Status ==\n",
      "Current time: 2025-08-03 09:08:51 (running for 00:02:55.92)\n",
      "Using FIFO scheduling algorithm.\n",
      "Logical resource usage: 1.0/24 CPUs, 3.0/3 GPUs (0.0/4.0 anyscale/region:us-east-2, 0.0/1.0 anyscale/cpu_only:true, 0.0/1.0 anyscale/node-group:head, 0.0/4.0 anyscale/provider:aws, 0.0/3.0 anyscale/node-group:1xT4:8CPU-32GB, 0.0/3.0 anyscale/accelerator_shape:1xT4, 0.0/3.0 accelerator_type:T4)\n",
      "Result logdir: /tmp/ray/session_2025-08-03_07-30-39_655412_2483/artifacts/2025-08-03_09-05-55/ray_train_torch_run-e4b622f8e1f74113b1d75fa68cf6ff73/driver_artifacts\n",
      "Number of trials: 1/1 (1 RUNNING)\n",
      "\n",
      "\n",
      "== Status ==\n",
      "Current time: 2025-08-03 09:08:56 (running for 00:03:00.94)\n",
      "Using FIFO scheduling algorithm.\n",
      "Logical resource usage: 1.0/24 CPUs, 3.0/3 GPUs (0.0/1.0 anyscale/node-group:head, 0.0/4.0 anyscale/provider:aws, 0.0/1.0 anyscale/cpu_only:true, 0.0/4.0 anyscale/region:us-east-2, 0.0/3.0 anyscale/accelerator_shape:1xT4, 0.0/3.0 accelerator_type:T4, 0.0/3.0 anyscale/node-group:1xT4:8CPU-32GB)\n",
      "Result logdir: /tmp/ray/session_2025-08-03_07-30-39_655412_2483/artifacts/2025-08-03_09-05-55/ray_train_torch_run-e4b622f8e1f74113b1d75fa68cf6ff73/driver_artifacts\n",
      "Number of trials: 1/1 (1 RUNNING)\n",
      "\n",
      "\n",
      "== Status ==\n",
      "Current time: 2025-08-03 09:09:01 (running for 00:03:05.96)\n",
      "Using FIFO scheduling algorithm.\n",
      "Logical resource usage: 1.0/24 CPUs, 3.0/3 GPUs (0.0/1.0 anyscale/node-group:head, 0.0/4.0 anyscale/provider:aws, 0.0/1.0 anyscale/cpu_only:true, 0.0/4.0 anyscale/region:us-east-2, 0.0/3.0 anyscale/accelerator_shape:1xT4, 0.0/3.0 accelerator_type:T4, 0.0/3.0 anyscale/node-group:1xT4:8CPU-32GB)\n",
      "Result logdir: /tmp/ray/session_2025-08-03_07-30-39_655412_2483/artifacts/2025-08-03_09-05-55/ray_train_torch_run-e4b622f8e1f74113b1d75fa68cf6ff73/driver_artifacts\n",
      "Number of trials: 1/1 (1 RUNNING)\n",
      "\n",
      "\n",
      "== Status ==\n",
      "Current time: 2025-08-03 09:09:06 (running for 00:03:10.98)\n",
      "Using FIFO scheduling algorithm.\n",
      "Logical resource usage: 1.0/24 CPUs, 3.0/3 GPUs (0.0/4.0 anyscale/provider:aws, 0.0/1.0 anyscale/cpu_only:true, 0.0/4.0 anyscale/region:us-east-2, 0.0/1.0 anyscale/node-group:head, 0.0/3.0 anyscale/accelerator_shape:1xT4, 0.0/3.0 accelerator_type:T4, 0.0/3.0 anyscale/node-group:1xT4:8CPU-32GB)\n",
      "Result logdir: /tmp/ray/session_2025-08-03_07-30-39_655412_2483/artifacts/2025-08-03_09-05-55/ray_train_torch_run-e4b622f8e1f74113b1d75fa68cf6ff73/driver_artifacts\n",
      "Number of trials: 1/1 (1 RUNNING)\n",
      "\n",
      "\n",
      "== Status ==\n",
      "Current time: 2025-08-03 09:09:11 (running for 00:03:16.00)\n",
      "Using FIFO scheduling algorithm.\n",
      "Logical resource usage: 1.0/24 CPUs, 3.0/3 GPUs (0.0/4.0 anyscale/provider:aws, 0.0/1.0 anyscale/cpu_only:true, 0.0/4.0 anyscale/region:us-east-2, 0.0/1.0 anyscale/node-group:head, 0.0/3.0 anyscale/accelerator_shape:1xT4, 0.0/3.0 accelerator_type:T4, 0.0/3.0 anyscale/node-group:1xT4:8CPU-32GB)\n",
      "Result logdir: /tmp/ray/session_2025-08-03_07-30-39_655412_2483/artifacts/2025-08-03_09-05-55/ray_train_torch_run-e4b622f8e1f74113b1d75fa68cf6ff73/driver_artifacts\n",
      "Number of trials: 1/1 (1 RUNNING)\n",
      "\n",
      "\n",
      "== Status ==\n",
      "Current time: 2025-08-03 09:09:16 (running for 00:03:21.02)\n",
      "Using FIFO scheduling algorithm.\n",
      "Logical resource usage: 1.0/24 CPUs, 3.0/3 GPUs (0.0/4.0 anyscale/provider:aws, 0.0/1.0 anyscale/node-group:head, 0.0/1.0 anyscale/cpu_only:true, 0.0/4.0 anyscale/region:us-east-2, 0.0/3.0 accelerator_type:T4, 0.0/3.0 anyscale/accelerator_shape:1xT4, 0.0/3.0 anyscale/node-group:1xT4:8CPU-32GB)\n",
      "Result logdir: /tmp/ray/session_2025-08-03_07-30-39_655412_2483/artifacts/2025-08-03_09-05-55/ray_train_torch_run-e4b622f8e1f74113b1d75fa68cf6ff73/driver_artifacts\n",
      "Number of trials: 1/1 (1 RUNNING)\n",
      "\n",
      "\n"
     ]
    },
    {
     "name": "stderr",
     "output_type": "stream",
     "text": [
      "2025-08-03 09:09:21,517\tWARNING tune.py:219 -- Stop signal received (e.g. via SIGINT/Ctrl+C), ending Ray Tune run. This will try to checkpoint the experiment state one last time. Press CTRL+C (or send SIGINT/SIGKILL/SIGTERM) to skip. \n"
     ]
    },
    {
     "name": "stdout",
     "output_type": "stream",
     "text": [
      "== Status ==\n",
      "Current time: 2025-08-03 09:09:21 (running for 00:03:26.04)\n",
      "Using FIFO scheduling algorithm.\n",
      "Logical resource usage: 1.0/24 CPUs, 3.0/3 GPUs (0.0/4.0 anyscale/provider:aws, 0.0/1.0 anyscale/node-group:head, 0.0/1.0 anyscale/cpu_only:true, 0.0/4.0 anyscale/region:us-east-2, 0.0/3.0 accelerator_type:T4, 0.0/3.0 anyscale/accelerator_shape:1xT4, 0.0/3.0 anyscale/node-group:1xT4:8CPU-32GB)\n",
      "Result logdir: /tmp/ray/session_2025-08-03_07-30-39_655412_2483/artifacts/2025-08-03_09-05-55/ray_train_torch_run-e4b622f8e1f74113b1d75fa68cf6ff73/driver_artifacts\n",
      "Number of trials: 1/1 (1 RUNNING)\n",
      "\n",
      "\n"
     ]
    },
    {
     "name": "stderr",
     "output_type": "stream",
     "text": [
      "2025-08-03 09:09:21,802\tINFO tune.py:1009 -- Wrote the latest version of all result files and experiment state to '/mnt/cluster_storage/ray_train_torch_run-e4b622f8e1f74113b1d75fa68cf6ff73' in 0.2833s.\n"
     ]
    },
    {
     "name": "stdout",
     "output_type": "stream",
     "text": [
      "== Status ==\n",
      "Current time: 2025-08-03 09:09:21 (running for 00:03:26.32)\n",
      "Using FIFO scheduling algorithm.\n",
      "Logical resource usage: 1.0/24 CPUs, 3.0/3 GPUs (0.0/4.0 anyscale/provider:aws, 0.0/1.0 anyscale/node-group:head, 0.0/1.0 anyscale/cpu_only:true, 0.0/4.0 anyscale/region:us-east-2, 0.0/3.0 accelerator_type:T4, 0.0/3.0 anyscale/accelerator_shape:1xT4, 0.0/3.0 anyscale/node-group:1xT4:8CPU-32GB)\n",
      "Result logdir: /tmp/ray/session_2025-08-03_07-30-39_655412_2483/artifacts/2025-08-03_09-05-55/ray_train_torch_run-e4b622f8e1f74113b1d75fa68cf6ff73/driver_artifacts\n",
      "Number of trials: 1/1 (1 RUNNING)\n",
      "\n",
      "\n",
      "\u001b[36m(RayTrainWorker pid=4977, ip=100.90.215.82)\u001b[0m {'epoch': 1, 'train_loss': 2.4174113673364332, 'train_acc': 0.0882277238757132}\n"
     ]
    },
    {
     "name": "stderr",
     "output_type": "stream",
     "text": [
      "\u001b[36m(RayTrainWorker pid=4977, ip=100.90.215.82)\u001b[0m Checkpoint successfully created at: Checkpoint(filesystem=local, path=/mnt/cluster_storage/ray_train_torch_run-e4b622f8e1f74113b1d75fa68cf6ff73/TorchTrainer_100cc_00000_0_2025-08-03_09-05-55/checkpoint_000001)\u001b[32m [repeated 3x across cluster]\u001b[0m\n",
      "2025-08-03 09:09:30,629\tINFO tune.py:1041 -- Total run time: 215.38 seconds (206.04 seconds for the tuning loop).\n",
      "2025-08-03 09:09:30,630\tWARNING tune.py:1051 -- Training has been interrupted, but the most recent state was saved.\n",
      "Resume training with: <FrameworkTrainer>.restore(path=\"/mnt/cluster_storage/ray_train_torch_run-e4b622f8e1f74113b1d75fa68cf6ff73\", ...)\n"
     ]
    },
    {
     "name": "stdout",
     "output_type": "stream",
     "text": [
      "Training result: Result(\n",
      "  metrics={'epoch': 0, 'train_loss': 2.4220690441702653, 'train_acc': 0.09011707944561265},\n",
      "  path='/mnt/cluster_storage/ray_train_torch_run-e4b622f8e1f74113b1d75fa68cf6ff73/TorchTrainer_100cc_00000_0_2025-08-03_09-05-55',\n",
      "  filesystem='local',\n",
      "  checkpoint=Checkpoint(filesystem=local, path=/mnt/cluster_storage/ray_train_torch_run-e4b622f8e1f74113b1d75fa68cf6ff73/TorchTrainer_100cc_00000_0_2025-08-03_09-05-55/checkpoint_000000)\n",
      ")\n"
     ]
    },
    {
     "name": "stderr",
     "output_type": "stream",
     "text": [
      "\u001b[36m(RayTrainWorker pid=4968, ip=100.93.167.84)\u001b[0m [rank2]:[W803 09:09:30.252158576 TCPStore.cpp:125] [c10d] recvValue failed on SocketImpl(fd=42, addr=[ip-10-0-29-176]:56854, remote=[::ffff:100.90.215.82]:53151): failed to recv, got 0 bytes\n",
      "\u001b[36m(RayTrainWorker pid=4968, ip=100.93.167.84)\u001b[0m Exception raised from recvBytes at /pytorch/torch/csrc/distributed/c10d/Utils.hpp:678 (most recent call first):\n",
      "\u001b[36m(RayTrainWorker pid=4968, ip=100.93.167.84)\u001b[0m frame #0: c10::Error::Error(c10::SourceLocation, std::__cxx11::basic_string<char, std::char_traits<char>, std::allocator<char> >) + 0x98 (0x7793502c75e8 in /tmp/ray/session_2025-08-03_07-30-39_655412_2483/runtime_resources/pip/95827506fa75379904c3ce3b9ca4084a17838508/virtualenv/lib/python3.12/site-packages/torch/lib/libc10.so)\n",
      "\u001b[36m(RayTrainWorker pid=4968, ip=100.93.167.84)\u001b[0m frame #1: <unknown function> + 0x5ba8bfe (0x7793307a8bfe in /tmp/ray/session_2025-08-03_07-30-39_655412_2483/runtime_resources/pip/95827506fa75379904c3ce3b9ca4084a17838508/virtualenv/lib/python3.12/site-packages/torch/lib/libtorch_cpu.so)\n",
      "\u001b[36m(RayTrainWorker pid=4968, ip=100.93.167.84)\u001b[0m frame #2: <unknown function> + 0x5baaf40 (0x7793307aaf40 in /tmp/ray/session_2025-08-03_07-30-39_655412_2483/runtime_resources/pip/95827506fa75379904c3ce3b9ca4084a17838508/virtualenv/lib/python3.12/site-packages/torch/lib/libtorch_cpu.so)\n",
      "\u001b[36m(RayTrainWorker pid=4968, ip=100.93.167.84)\u001b[0m frame #3: <unknown function> + 0x5bab84a (0x7793307ab84a in /tmp/ray/session_2025-08-03_07-30-39_655412_2483/runtime_resources/pip/95827506fa75379904c3ce3b9ca4084a17838508/virtualenv/lib/python3.12/site-packages/torch/lib/libtorch_cpu.so)\n",
      "\u001b[36m(RayTrainWorker pid=4968, ip=100.93.167.84)\u001b[0m frame #4: c10d::TCPStore::check(std::vector<std::__cxx11::basic_string<char, std::char_traits<char>, std::allocator<char> >, std::allocator<std::__cxx11::basic_string<char, std::char_traits<char>, std::allocator<char> > > > const&) + 0x2a9 (0x7793307a52a9 in /tmp/ray/session_2025-08-03_07-30-39_655412_2483/runtime_resources/pip/95827506fa75379904c3ce3b9ca4084a17838508/virtualenv/lib/python3.12/site-packages/torch/lib/libtorch_cpu.so)\n",
      "\u001b[36m(RayTrainWorker pid=4968, ip=100.93.167.84)\u001b[0m frame #5: c10d::ProcessGroupNCCL::heartbeatMonitor() + 0x379 (0x7792f1de09f9 in /tmp/ray/session_2025-08-03_07-30-39_655412_2483/runtime_resources/pip/95827506fa75379904c3ce3b9ca4084a17838508/virtualenv/lib/python3.12/site-packages/torch/lib/libtorch_cuda.so)\n",
      "\u001b[36m(RayTrainWorker pid=4968, ip=100.93.167.84)\u001b[0m frame #6: <unknown function> + 0xd3b65 (0x77961cb6fb65 in /home/ray/anaconda3/bin/../lib/libstdc++.so.6)\n",
      "\u001b[36m(RayTrainWorker pid=4968, ip=100.93.167.84)\u001b[0m frame #7: <unknown function> + 0x94ac3 (0x77961ed4dac3 in /usr/lib/x86_64-linux-gnu/libc.so.6)\n",
      "\u001b[36m(RayTrainWorker pid=4968, ip=100.93.167.84)\u001b[0m frame #8: <unknown function> + 0x126850 (0x77961eddf850 in /usr/lib/x86_64-linux-gnu/libc.so.6)\n",
      "\u001b[36m(RayTrainWorker pid=4968, ip=100.93.167.84)\u001b[0m \n",
      "\u001b[36m(RayTrainWorker pid=4968, ip=100.93.167.84)\u001b[0m [rank2]:[W803 09:09:30.257952401 ProcessGroupNCCL.cpp:1662] [PG ID 0 PG GUID 0(default_pg) Rank 2] Failed to check the \"should dump\" flag on TCPStore, (maybe TCPStore server has shut down too early), with error: failed to recv, got 0 bytes\n",
      "\u001b[36m(RayTrainWorker pid=4968, ip=100.93.167.84)\u001b[0m [rank2]:[W803 09:09:31.258089618 TCPStore.cpp:106] [c10d] sendBytes failed on SocketImpl(fd=42, addr=[ip-10-0-29-176]:56854, remote=[::ffff:100.90.215.82]:53151): Broken pipe\n",
      "\u001b[36m(RayTrainWorker pid=4968, ip=100.93.167.84)\u001b[0m Exception raised from sendBytes at /pytorch/torch/csrc/distributed/c10d/Utils.hpp:653 (most recent call first):\n",
      "\u001b[36m(RayTrainWorker pid=4968, ip=100.93.167.84)\u001b[0m frame #0: c10::Error::Error(c10::SourceLocation, std::__cxx11::basic_string<char, std::char_traits<char>, std::allocator<char> >) + 0x98 (0x7793502c75e8 in /tmp/ray/session_2025-08-03_07-30-39_655412_2483/runtime_resources/pip/95827506fa75379904c3ce3b9ca4084a17838508/virtualenv/lib/python3.12/site-packages/torch/lib/libc10.so)\n",
      "\u001b[36m(RayTrainWorker pid=4968, ip=100.93.167.84)\u001b[0m frame #1: <unknown function> + 0x5ba8bfe (0x7793307a8bfe in /tmp/ray/session_2025-08-03_07-30-39_655412_2483/runtime_resources/pip/95827506fa75379904c3ce3b9ca4084a17838508/virtualenv/lib/python3.12/site-packages/torch/lib/libtorch_cpu.so)\n",
      "\u001b[36m(RayTrainWorker pid=4968, ip=100.93.167.84)\u001b[0m frame #2: <unknown function> + 0x5baa458 (0x7793307aa458 in /tmp/ray/session_2025-08-03_07-30-39_655412_2483/runtime_resources/pip/95827506fa75379904c3ce3b9ca4084a17838508/virtualenv/lib/python3.12/site-packages/torch/lib/libtorch_cpu.so)\n",
      "\u001b[36m(RayTrainWorker pid=4968, ip=100.93.167.84)\u001b[0m frame #3: <unknown function> + 0x5babc3e (0x7793307abc3e in /tmp/ray/session_2025-08-03_07-30-39_655412_2483/runtime_resources/pip/95827506fa75379904c3ce3b9ca4084a17838508/virtualenv/lib/python3.12/site-packages/torch/lib/libtorch_cpu.so)\n",
      "\u001b[36m(RayTrainWorker pid=4968, ip=100.93.167.84)\u001b[0m frame #4: c10d::TCPStore::check(std::vector<std::__cxx11::basic_string<char, std::char_traits<char>, std::allocator<char> >, std::allocator<std::__cxx11::basic_string<char, std::char_traits<char>, std::allocator<char> > > > const&) + 0x298 (0x7793307a5298 in /tmp/ray/session_2025-08-03_07-30-39_655412_2483/runtime_resources/pip/95827506fa75379904c3ce3b9ca4084a17838508/virtualenv/lib/python3.12/site-packages/torch/lib/libtorch_cpu.so)\n",
      "\u001b[36m(RayTrainWorker pid=4968, ip=100.93.167.84)\u001b[0m frame #5: c10d::ProcessGroupNCCL::heartbeatMonitor() + 0x379 (0x7792f1de09f9 in /tmp/ray/session_2025-08-03_07-30-39_655412_2483/runtime_resources/pip/95827506fa75379904c3ce3b9ca4084a17838508/virtualenv/lib/python3.12/site-packages/torch/lib/libtorch_cuda.so)\n",
      "\u001b[36m(RayTrainWorker pid=4968, ip=100.93.167.84)\u001b[0m frame #6: <unknown function> + 0xd3b65 (0x77961cb6fb65 in /home/ray/anaconda3/bin/../lib/libstdc++.so.6)\n",
      "\u001b[36m(RayTrainWorker pid=4968, ip=100.93.167.84)\u001b[0m frame #7: <unknown function> + 0x94ac3 (0x77961ed4dac3 in /usr/lib/x86_64-linux-gnu/libc.so.6)\n",
      "\u001b[36m(RayTrainWorker pid=4968, ip=100.93.167.84)\u001b[0m frame #8: <unknown function> + 0x126850 (0x77961eddf850 in /usr/lib/x86_64-linux-gnu/libc.so.6)\n",
      "\u001b[36m(RayTrainWorker pid=4968, ip=100.93.167.84)\u001b[0m \n",
      "\u001b[36m(RayTrainWorker pid=4968, ip=100.93.167.84)\u001b[0m [rank2]:[W803 09:09:31.263082470 ProcessGroupNCCL.cpp:1662] [PG ID 0 PG GUID 0(default_pg) Rank 2] Failed to check the \"should dump\" flag on TCPStore, (maybe TCPStore server has shut down too early), with error: Broken pipe\n"
     ]
    }
   ],
   "source": [
    "result = trainer.fit()\n",
    "print(f\"Training result: {result}\")"
   ]
  },
  {
   "cell_type": "code",
   "execution_count": 16,
   "id": "2ead92d3-a9d2-4591-b980-b645028aaf3e",
   "metadata": {},
   "outputs": [],
   "source": [
    "ray.shutdown()"
   ]
  },
  {
   "cell_type": "code",
   "execution_count": null,
   "id": "178d226b-52c0-493f-8fb3-ea67f60f2395",
   "metadata": {},
   "outputs": [],
   "source": []
  }
 ],
 "metadata": {
  "kernelspec": {
   "display_name": "Python 3 (ipykernel)",
   "language": "python",
   "name": "python3"
  },
  "language_info": {
   "codemirror_mode": {
    "name": "ipython",
    "version": 3
   },
   "file_extension": ".py",
   "mimetype": "text/x-python",
   "name": "python",
   "nbconvert_exporter": "python",
   "pygments_lexer": "ipython3",
   "version": "3.12.11"
  }
 },
 "nbformat": 4,
 "nbformat_minor": 5
}
