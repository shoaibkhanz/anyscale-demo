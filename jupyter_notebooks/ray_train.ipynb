{
 "cells": [
  {
   "cell_type": "markdown",
   "id": "b7caa554-6004-4c57-bb1c-951c91ba994a",
   "metadata": {},
   "source": [
    "## Pytorch + Ray Train Distributed Training\n",
    "This cell imports all the necessary libraries and modules used throughout the notebook:\n",
    "\n",
    "- **Standard library**: Utilities for file paths, temporary directories, unique IDs, and file locking.\n",
    "- **Third-party libraries**: \n",
    "  - `filelock` for safe concurrent file access.\n",
    "  - `PIL.Image` for image processing.\n",
    "  - `matplotlib.pyplot` for data visualization.\n",
    "  - `torch`, `torch.nn`, `torch.utils.data`, and `torchmetrics` for building, training, and evaluating PyTorch models.\n",
    "- **torchvision**: \n",
    "  - Datasets (CIFAR-10), pretrained models (ResNet-18), and common data transforms for image preprocessing.\n",
    "- **Ray**: \n",
    "  - Distributed training utilities including `TorchTrainer` for scalable training, and configuration classes for managing Ray training jobs."
   ]
  },
  {
   "cell_type": "code",
   "execution_count": null,
   "id": "e9b6c7b4-cccb-4f1d-86bd-d2b0ec60bde6",
   "metadata": {
    "tags": []
   },
   "outputs": [],
   "source": [
    "# Standard library\n",
    "import os\n",
    "import tempfile\n",
    "import uuid\n",
    "from pathlib import Path\n",
    "\n",
    "# Third-party libraries\n",
    "from filelock import FileLock\n",
    "from PIL import Image\n",
    "import matplotlib.pyplot as plt\n",
    "import torch\n",
    "import torch.nn as nn\n",
    "from torch.utils.data import DataLoader, Subset\n",
    "from torchmetrics.classification import Accuracy\n",
    "\n",
    "# torchvision (separate for clarity)\n",
    "from torchvision.datasets import CIFAR10\n",
    "from torchvision.models import resnet18, ResNet18_Weights\n",
    "from torchvision import transforms\n",
    "\n",
    "# Ray imports\n",
    "import ray\n",
    "from ray.train.torch import TorchTrainer\n",
    "from ray.train import ScalingConfig, RunConfig, CheckpointConfig"
   ]
  },
  {
   "cell_type": "markdown",
   "id": "d0b0bc5c-c068-4715-9094-6a5448d898d8",
   "metadata": {},
   "source": [
    "### Loading and Inspecting the CIFAR-10 Test Dataset\n",
    "\n",
    "This cell downloads the CIFAR-10 test set and examines a single sample.\n",
    "\n",
    "- `CIFAR10(root=..., download=True, train=False)`: Downloads (if needed) and loads the test split of CIFAR-10. Each sample is a tuple: `(PIL image, label)`.\n",
    "- `next(iter(data))`: Retrieves the first image-label pair from the dataset.\n",
    "- `plt.imshow(next(iter(data))[0])`: Displays the image from the first sample using matplotlib."
   ]
  },
  {
   "cell_type": "code",
   "execution_count": null,
   "id": "5352278e-e560-4145-9561-a479807ac37c",
   "metadata": {
    "tags": []
   },
   "outputs": [],
   "source": [
    "data = CIFAR10(root=\"../marimo_notebooks/data\",download=True,train=False)\n",
    "data"
   ]
  },
  {
   "cell_type": "code",
   "execution_count": null,
   "id": "925827ef-e757-4c76-8926-1c873cb48faf",
   "metadata": {
    "tags": []
   },
   "outputs": [],
   "source": [
    "# the data contains of a PIL image and the label\n",
    "next(iter(data))"
   ]
  },
  {
   "cell_type": "code",
   "execution_count": null,
   "id": "de401ca3",
   "metadata": {},
   "outputs": [],
   "source": [
    "plt.imshow(next(iter(data))[0])"
   ]
  },
  {
   "cell_type": "code",
   "execution_count": null,
   "id": "9205da88-0ee7-45c8-8835-7c3d196f2c7b",
   "metadata": {
    "tags": []
   },
   "outputs": [],
   "source": [
    "class_to_idx = data.class_to_idx\n",
    "class_to_idx"
   ]
  },
  {
   "cell_type": "markdown",
   "id": "5eef90c1-cbea-4229-acf4-6f76c0fcc264",
   "metadata": {},
   "source": [
    "### Loading a Pretrained ResNet-18 Model\n",
    "\n",
    "This cell demonstrates how to load the pretrained ResNet-18 model from torchvision:\n",
    "\n",
    "- `ResNet18_Weights.IMAGENET1K_V1`: Specifies the standard pretrained weights trained on ImageNet.\n",
    "- `resnet18(weights=ResNet18_Weights.IMAGENET1K_V1)`: Loads a ResNet-18 model instance with the pretrained weights applied.\n",
    "\n",
    "Printing `model` displays the architecture."
   ]
  },
  {
   "cell_type": "code",
   "execution_count": null,
   "id": "be82cd1a",
   "metadata": {},
   "outputs": [],
   "source": [
    "weights = ResNet18_Weights.IMAGENET1K_V1"
   ]
  },
  {
   "cell_type": "code",
   "execution_count": null,
   "id": "46641dcc-4f1b-409c-b488-53966744e3da",
   "metadata": {
    "tags": []
   },
   "outputs": [],
   "source": [
    "model = resnet18(weights=ResNet18_Weights)\n",
    "model"
   ]
  },
  {
   "cell_type": "markdown",
   "id": "7e2576c9-715b-4de1-a2b1-2cb637ce53a8",
   "metadata": {},
   "source": [
    "### Defining the CIFAR-10 DataLoader with Preprocessing\n",
    "\n",
    "This function prepares PyTorch DataLoaders for the CIFAR-10 dataset, using the same image transforms as those expected by a pretrained ResNet-18 model:\n",
    "\n",
    "- Retrieves the ResNet-18 ImageNet normalisation and resizing transforms with `weights.transforms()`.\n",
    "- Downloads the CIFAR-10 training and test sets (if not already present), applying the ResNet-18 transforms to each image.\n",
    "- Optionally, subsets the data to the first 1,000 samples for quicker experimentation.\n",
    "- Wraps the datasets with PyTorch `DataLoader` objects to enable mini-batch loading and shuffling during training and evaluation.\n",
    "\n",
    "Returns:  \n",
    "`train_dataloader`, `valid_dataloader` — ready-to-use for model training and validation."
   ]
  },
  {
   "cell_type": "code",
   "execution_count": null,
   "id": "b0b185cc-5db5-4d35-90d3-bcd9769e29c4",
   "metadata": {
    "tags": []
   },
   "outputs": [],
   "source": [
    "def get_cifar_dataloader(batch_size):\n",
    "    weights = ResNet18_Weights.IMAGENET1K_V1\n",
    "    resnet18_transforms = weights.transforms()\n",
    "    with FileLock(os.path.expanduser(\"~/cifar_data.lock\")):\n",
    "        train = CIFAR10(\n",
    "            root=\"~/cifar_data\",\n",
    "            train=True,\n",
    "            download=True,\n",
    "            transform=resnet18_transforms,\n",
    "        )\n",
    "        valid = CIFAR10(\n",
    "            root=\"~/cifar_data\",\n",
    "            train=False,\n",
    "            download=True,\n",
    "            transform=resnet18_transforms,\n",
    "        )\n",
    "    train_sub = Subset(train,indices=range(1000))\n",
    "    valid_sub = Subset(valid,indices=range(1000))\n",
    "    # dataloaders to get data in batches\n",
    "    train_dataloader = DataLoader(train, batch_size=batch_size, shuffle=True)\n",
    "    valid_dataloader = DataLoader(valid, batch_size=batch_size)\n",
    "\n",
    "    return train_dataloader, valid_dataloader\n",
    "\n"
   ]
  },
  {
   "cell_type": "code",
   "execution_count": null,
   "id": "8ebd4958",
   "metadata": {},
   "outputs": [],
   "source": [
    "sample_dataloader = next(iter(get_cifar_dataloader(3)))\n",
    "single_batch =  next(iter(sample_dataloader))"
   ]
  },
  {
   "cell_type": "code",
   "execution_count": null,
   "id": "fbb0009f",
   "metadata": {},
   "outputs": [],
   "source": [
    "single_batch[1].shape"
   ]
  },
  {
   "cell_type": "code",
   "execution_count": null,
   "id": "eae4d223",
   "metadata": {},
   "outputs": [],
   "source": [
    "single_batch[0].shape"
   ]
  },
  {
   "cell_type": "markdown",
   "id": "21c1dc07-069e-48a9-96a7-9256b471abd4",
   "metadata": {},
   "source": [
    "### Ray Distributed Training Function for Transfer Learning on CIFAR-10\n",
    "\n",
    "This function implements the distributed training loop for fine-tuning a ResNet-18 model on the CIFAR-10 dataset using Ray Train. The workflow includes:\n",
    "\n",
    "- **Configuration**: Reads training hyperparameters (epochs, batch size, learning rate, weight decay, and number of classes) from `config`.\n",
    "- **Device Setup**: Automatically selects GPU (`cuda`), or CPU.\n",
    "- **Model Preparation**:\n",
    "  - Loads a ResNet-18 model pre-trained on ImageNet.\n",
    "  - Freezes all layers except the final fully-connected (`fc`) layer, which is replaced to match the number of CIFAR-10 classes.\n",
    "  - Wraps the model for distributed training with Ray.\n",
    "- **Optimizer and Loss**: Uses AdamW for optimization and cross-entropy as the loss function.\n",
    "- **Data Loading**:\n",
    "  - Prepares training and validation DataLoaders with transforms compatible with ResNet-18.\n",
    "  - Ensures data is properly sharded for distributed execution.\n",
    "- **Training Loop**:\n",
    "  - Trains for the specified number of epochs, accumulating average loss and accuracy for both training and validation sets.\n",
    "  - Evaluates on the validation set after each epoch (inference mode, no gradients).\n",
    "- **Metrics and Checkpointing**:\n",
    "  - Reports epoch-level training and validation metrics (loss, accuracy) to Ray for centralized tracking.\n",
    "  - Saves a model checkpoint at each epoch for potential recovery or analysis.\n",
    "  - Prints metrics from the main worker for logging and monitoring."
   ]
  },
  {
   "cell_type": "code",
   "execution_count": null,
   "id": "2919c541-40c1-41cd-af91-7e2610bbb33e",
   "metadata": {
    "tags": []
   },
   "outputs": [],
   "source": [
    "def train_func(config):\n",
    "\n",
    "    epochs = config[\"epochs\"]\n",
    "    batch_size = config[\"batch_size\"]\n",
    "    lr = config[\"lr\"]\n",
    "    \n",
    "    \n",
    "    # use detected device\n",
    "    device = torch.device(\"cuda\" if torch.cuda.is_available() else \"mps\" if torch.backends.mps.is_available() else \"cpu\")\n",
    "\n",
    "    # metrics\n",
    "    accuracy = Accuracy(task=\"multiclass\", num_classes=config[\"num_classes\"]).to(device)\n",
    "    \n",
    "    weights = ResNet18_Weights.IMAGENET1K_V1\n",
    "\n",
    "\n",
    "    # freezing the all weights except the last one\n",
    "    model = resnet18(weights=weights)\n",
    "    for parameter in model.parameters():\n",
    "        parameter.requires_grad = False\n",
    "\n",
    "    # outputs 10 classes\n",
    "    model.fc = nn.Linear(512,config[\"num_classes\"],bias=True)\n",
    "    # prepare model\n",
    "    model = ray.train.torch.prepare_model(model)\n",
    " \n",
    "    loss_fn = nn.CrossEntropyLoss()\n",
    "    optimizer = torch.optim.AdamW(model.parameters(), lr=config[\"lr\"], weight_decay=config[\"weight_decay\"])\n",
    "\n",
    "    train_dataloader, valid_dataloader = get_cifar_dataloader(batch_size=batch_size)\n",
    "    train_dataloader = ray.train.torch.prepare_data_loader(train_dataloader)\n",
    "    valid_dataloader = ray.train.torch.prepare_data_loader(valid_dataloader)\n",
    "\n",
    "    for epoch in range(epochs):\n",
    "        # checking if training is scheduled in a distributed setting or not.\n",
    "        if ray.train.get_context().get_world_size() > 1:\n",
    "            train_dataloader.sampler.set_epoch(epoch)\n",
    "        train_loss = 0.0\n",
    "        train_acc = 0.0\n",
    "        model.train()\n",
    "        for idx, batch in enumerate(train_dataloader):\n",
    "            x, y = batch[0], batch[1]\n",
    "            y_preds = model(x)\n",
    "            y_labels = y_preds.argmax(dim=1)\n",
    "            loss = loss_fn(y_preds,y)\n",
    "            acc = accuracy(y_labels,y)\n",
    "            train_loss +=  loss.item()\n",
    "            train_acc += acc.item()\n",
    "        train_loss /=len(train_dataloader)\n",
    "        train_acc /=len(train_dataloader)\n",
    "\n",
    "        valid_loss = 0.0\n",
    "        valid_acc = 0.0\n",
    "        model.eval()\n",
    "        with torch.inference_mode():\n",
    "            for idx, batch in enumerate(valid_dataloader):\n",
    "                x, y = batch[0], batch[1]\n",
    "                y_preds = model(x)\n",
    "                y_labels = y_preds.argmax(dim=1)\n",
    "                loss = loss_fn(y_preds,y)\n",
    "                acc = accuracy(y_labels,y)\n",
    "                valid_loss +=  loss.item()\n",
    "                valid_acc += acc.item()\n",
    "                valid_loss /=len(valid_dataloader)\n",
    "                valid_acc /=len(valid_dataloader)\n",
    "        \n",
    "        metrics = {\"epoch\":epoch,\"train_loss\":train_loss, \"train_acc\":train_acc,\n",
    "                  \"valid_loss\":valid_loss, \"valid_acc\":valid_acc}\n",
    "\n",
    "        with tempfile.TemporaryDirectory() as temp_checkpoint_dir:\n",
    "            torch.save(\n",
    "                model.module.state_dict(),\n",
    "                os.path.join(temp_checkpoint_dir, \"model.pt\")\n",
    "            )\n",
    "            ray.train.report(\n",
    "                metrics,\n",
    "                checkpoint=ray.train.Checkpoint.from_directory(temp_checkpoint_dir),\n",
    "            )\n",
    "\n",
    "        if ray.train.get_context().get_world_rank() == 0:\n",
    "            print(metrics)"
   ]
  },
  {
   "cell_type": "markdown",
   "id": "da2f5203-87e0-441c-b044-037b828a2059",
   "metadata": {},
   "source": [
    "### Configuring Ray TorchTrainer for Distributed Training\n",
    "\n",
    "This section sets up the Ray TorchTrainer to launch distributed training with the following components:\n",
    "\n",
    "- **Global Training Parameters**: \n",
    "  - Defines the overall batch size, number of parallel workers, and whether to use GPUs.\n",
    "  - Calculates per-worker batch size.\n",
    "\n",
    "- **Training Configuration (`train_config`)**:\n",
    "  - Specifies learning rate, number of epochs, number of classes, per-worker batch size, and weight decay for the optimizer.\n",
    "\n",
    "- **Scaling Configuration (`scaling_config`)**:\n",
    "  - Sets the number of workers and whether to use GPUs for distributed training.\n",
    "\n",
    "- **Run Configuration (`run_config`)**:\n",
    "  - Specifies the experiment's storage location for checkpoints and logs.\n",
    "  - Assigns a unique run name for tracking.\n",
    "  - Configures checkpointing behavior (e.g., how many to keep, checkpoint selection criteria).\n",
    "\n",
    "- **Trainer Instantiation**:\n",
    "  - Creates a `TorchTrainer` object with all the above configs, ready to launch the training loop (`train_func`) in parallel across the specified workers."
   ]
  },
  {
   "cell_type": "code",
   "execution_count": null,
   "id": "eead0973-1ef0-4c91-b313-f986c12cc0a1",
   "metadata": {
    "tags": []
   },
   "outputs": [],
   "source": [
    "global_batch_size = 100\n",
    "num_workers = 9\n",
    "use_gpu = False\n",
    "\n",
    "train_config = {\n",
    "    \"lr\": 0.01,\n",
    "    \"epochs\": 3,\n",
    "    \"num_classes\": 10,\n",
    "    \"batch_size\": global_batch_size // num_workers,\n",
    "    \"weight_decay\": 0.02\n",
    "}\n",
    "scaling_config = ScalingConfig(num_workers=num_workers, use_gpu=use_gpu)\n",
    "run_config = RunConfig(\n",
    "    storage_path=str(Path(\"../marimo_notebooks/data/storage_path\").resolve()), # local_testing\n",
    "    #storage_path=\"/mnt/cluster_storage\", # we could use s3 as well\n",
    "    name=f\"ray_train_torch_run-{uuid.uuid4().hex}\",\n",
    "    checkpoint_config = CheckpointConfig(num_to_keep=1,\n",
    "    checkpoint_score_attribute=\"train_acc\",\n",
    "    checkpoint_score_order=\"max\",) \n",
    ")\n",
    "\n",
    "trainer = TorchTrainer(\n",
    "    train_loop_per_worker=train_func,\n",
    "    train_loop_config=train_config,\n",
    "    scaling_config=scaling_config,\n",
    "    run_config=run_config,\n",
    ")"
   ]
  },
  {
   "cell_type": "code",
   "execution_count": null,
   "id": "77710997-5f7f-479f-a4da-1f4549d71036",
   "metadata": {
    "tags": []
   },
   "outputs": [],
   "source": [
    "# fitting the model\n",
    "result = trainer.fit()\n",
    "print(f\"Training result: {result}\")"
   ]
  },
  {
   "cell_type": "code",
   "execution_count": null,
   "id": "2ead92d3-a9d2-4591-b980-b645028aaf3e",
   "metadata": {},
   "outputs": [],
   "source": [
    "ray.shutdown()"
   ]
  },
  {
   "cell_type": "code",
   "execution_count": null,
   "id": "178d226b-52c0-493f-8fb3-ea67f60f2395",
   "metadata": {},
   "outputs": [],
   "source": []
  }
 ],
 "metadata": {
  "kernelspec": {
   "display_name": "Python 3 (ipykernel)",
   "language": "python",
   "name": "python3"
  },
  "language_info": {
   "codemirror_mode": {
    "name": "ipython",
    "version": 3
   },
   "file_extension": ".py",
   "mimetype": "text/x-python",
   "name": "python",
   "nbconvert_exporter": "python",
   "pygments_lexer": "ipython3",
   "version": "3.12.11"
  }
 },
 "nbformat": 4,
 "nbformat_minor": 5
}
